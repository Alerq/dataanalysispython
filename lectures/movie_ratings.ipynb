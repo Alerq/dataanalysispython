{
 "cells": [
  {
   "cell_type": "markdown",
   "metadata": {},
   "source": [
    "# Movie ratings\n",
    "\n",
    "The idea for this example comes from this post: http://www.gregreda.com/2013/10/26/using-pandas-on-the-movielens-dataset/.\n",
    "\n",
    "The data can be found here: http://grouplens.org/datasets/movielens/.\n",
    "\n",
    "Documentation on the Blaze library can be found here: http://blaze.pydata.org/."
   ]
  },
  {
   "cell_type": "code",
   "execution_count": 1,
   "metadata": {
    "collapsed": false
   },
   "outputs": [],
   "source": [
    "import numpy as np\n",
    "import pandas as pd\n",
    "import matplotlib.pylab as plt\n",
    "import seaborn as sns\n",
    "import blaze as bz\n",
    "\n",
    "sns.set_context('talk')\n",
    "pd.set_option('float_format', '{:6.2f}'.format)\n",
    "\n",
    "%matplotlib inline"
   ]
  },
  {
   "cell_type": "code",
   "execution_count": 2,
   "metadata": {
    "collapsed": false
   },
   "outputs": [
    {
     "name": "stdout",
     "output_type": "stream",
     "text": [
      "   userId  movieId  rating   timestamp\n",
      "0       1       50    4.00  1329753504\n",
      "1       1      296    4.00  1329753602\n",
      "2       1      318    4.50  1329753494\n",
      "3       1      527    4.50  1329753507\n",
      "4       1      541    3.00  1329753607\n"
     ]
    }
   ],
   "source": [
    "path = '/home/khrapov/ml-latest/'\n",
    "ratings = bz.Data(path + 'ratings.csv')\n",
    "\n",
    "print(bz.odo(ratings.head(5), pd.DataFrame))"
   ]
  },
  {
   "cell_type": "code",
   "execution_count": 3,
   "metadata": {
    "collapsed": false
   },
   "outputs": [
    {
     "name": "stdout",
     "output_type": "stream",
     "text": [
      "21622187\n"
     ]
    }
   ],
   "source": [
    "print(bz.compute(ratings.count()))"
   ]
  },
  {
   "cell_type": "code",
   "execution_count": 4,
   "metadata": {
    "collapsed": false
   },
   "outputs": [
    {
     "name": "stdout",
     "output_type": "stream",
     "text": [
      "                                      title  \\\n",
      "movieId                                       \n",
      "1                          Toy Story (1995)   \n",
      "2                            Jumanji (1995)   \n",
      "3                   Grumpier Old Men (1995)   \n",
      "4                  Waiting to Exhale (1995)   \n",
      "5        Father of the Bride Part II (1995)   \n",
      "\n",
      "                                              genres  \n",
      "movieId                                               \n",
      "1        Adventure|Animation|Children|Comedy|Fantasy  \n",
      "2                         Adventure|Children|Fantasy  \n",
      "3                                     Comedy|Romance  \n",
      "4                               Comedy|Drama|Romance  \n",
      "5                                             Comedy  \n"
     ]
    }
   ],
   "source": [
    "movies = pd.read_csv(path + 'movies.csv', index_col='movieId')\n",
    "\n",
    "print(movies.head(5))"
   ]
  },
  {
   "cell_type": "code",
   "execution_count": 5,
   "metadata": {
    "collapsed": false
   },
   "outputs": [
    {
     "name": "stdout",
     "output_type": "stream",
     "text": [
      "movieId\n",
      "1    Adventure\n",
      "1    Animation\n",
      "1     Children\n",
      "1       Comedy\n",
      "1      Fantasy\n",
      "Name: genre, dtype: object\n"
     ]
    }
   ],
   "source": [
    "genres = movies['genres'].str.split('|').apply(pd.Series, 1).stack()\n",
    "genres.index = genres.index.droplevel(-1)\n",
    "genres.name = 'genre'\n",
    "\n",
    "print(genres.head())"
   ]
  },
  {
   "cell_type": "code",
   "execution_count": 6,
   "metadata": {
    "collapsed": false
   },
   "outputs": [
    {
     "name": "stdout",
     "output_type": "stream",
     "text": [
      "movieId\n",
      "1                      Toy Story (1995)\n",
      "2                        Jumanji (1995)\n",
      "3               Grumpier Old Men (1995)\n",
      "4              Waiting to Exhale (1995)\n",
      "5    Father of the Bride Part II (1995)\n",
      "Name: title, dtype: object\n"
     ]
    }
   ],
   "source": [
    "movie_titles = movies.loc[:, 'title']\n",
    "\n",
    "print(movie_titles.head())"
   ]
  },
  {
   "cell_type": "markdown",
   "metadata": {},
   "source": [
    "What are the most rated movies?"
   ]
  },
  {
   "cell_type": "code",
   "execution_count": 7,
   "metadata": {
    "collapsed": false
   },
   "outputs": [
    {
     "name": "stdout",
     "output_type": "stream",
     "text": [
      "         count                             title\n",
      "movieId                                         \n",
      "356      75018               Forrest Gump (1994)\n",
      "296      74418               Pulp Fiction (1994)\n",
      "593      71490  Silence of the Lambs, The (1991)\n",
      "318      70754  Shawshank Redemption, The (1994)\n",
      "480      66348              Jurassic Park (1993)\n"
     ]
    }
   ],
   "source": [
    "most_rated = bz.by(ratings['movieId'], count=ratings['movieId'].count())\n",
    "most_rated = bz.odo(most_rated, pd.DataFrame).set_index('movieId')\n",
    "most_rated = most_rated.join(movie_titles)\n",
    "most_rated.sort_values(by='count', ascending=False, inplace=True)\n",
    "\n",
    "print(most_rated.head())"
   ]
  },
  {
   "cell_type": "markdown",
   "metadata": {},
   "source": [
    "What are the highest rated movies with minimum number of rating counts?"
   ]
  },
  {
   "cell_type": "code",
   "execution_count": 8,
   "metadata": {
    "collapsed": false
   },
   "outputs": [
    {
     "name": "stdout",
     "output_type": "stream",
     "text": [
      "         count  mean_rating                             title\n",
      "movieId                                                      \n",
      "318      70754         4.44  Shawshank Redemption, The (1994)\n",
      "858      46077         4.36             Godfather, The (1972)\n",
      "50       49728         4.33        Usual Suspects, The (1995)\n",
      "527      55613         4.30           Schindler's List (1993)\n",
      "1221     30165         4.27    Godfather: Part II, The (1974)\n"
     ]
    }
   ],
   "source": [
    "movie_stats = bz.by(ratings['movieId'],\n",
    "                    mean_rating=ratings['rating'].mean(),\n",
    "                    count=ratings['rating'].count())\n",
    "movie_stats = movie_stats[movie_stats['count'] > movie_stats['count'].mean()]\n",
    "\n",
    "movie_stats = bz.odo(movie_stats, pd.DataFrame).set_index('movieId')\n",
    "movie_stats = movie_stats.join(movie_titles)\n",
    "movie_stats.sort_values(by='mean_rating', ascending=False, inplace=True)\n",
    "\n",
    "print(movie_stats.head())"
   ]
  }
 ],
 "metadata": {
  "kernelspec": {
   "display_name": "Python 3",
   "language": "python",
   "name": "python3"
  },
  "language_info": {
   "codemirror_mode": {
    "name": "ipython",
    "version": 3
   },
   "file_extension": ".py",
   "mimetype": "text/x-python",
   "name": "python",
   "nbconvert_exporter": "python",
   "pygments_lexer": "ipython3",
   "version": "3.4.3"
  }
 },
 "nbformat": 4,
 "nbformat_minor": 0
}
