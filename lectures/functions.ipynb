{
 "cells": [
  {
   "cell_type": "markdown",
   "metadata": {},
   "source": [
    "# Lecture 4. Functions"
   ]
  },
  {
   "cell_type": "code",
   "execution_count": 1,
   "metadata": {
    "collapsed": false
   },
   "outputs": [
    {
     "name": "stdout",
     "output_type": "stream",
     "text": [
      "I'm your function!\n"
     ]
    }
   ],
   "source": [
    "def simplest_function():\n",
    "    print('I\\'m your function!')\n",
    "    \n",
    "# Function call\n",
    "simplest_function()"
   ]
  },
  {
   "cell_type": "code",
   "execution_count": 2,
   "metadata": {
    "collapsed": false
   },
   "outputs": [
    {
     "name": "stdout",
     "output_type": "stream",
     "text": [
      "0 1 1 2 3 5 8 13 21 34 55 89 144 233 377 610 987 1597 "
     ]
    }
   ],
   "source": [
    "def fib(n):\n",
    "    \"\"\"Print a Fibonacci series up to n.\n",
    "    \n",
    "    Parameters\n",
    "    ----------\n",
    "    n : int\n",
    "        Any integer number larger than zero\n",
    "        \n",
    "    Returns\n",
    "    -------\n",
    "    \n",
    "    \"\"\"\n",
    "    a, b = 0, 1\n",
    "    while a < n:\n",
    "        print(a, end=' ')\n",
    "        a, b = b, a+b\n",
    "\n",
    "fib(2000)"
   ]
  },
  {
   "cell_type": "code",
   "execution_count": 3,
   "metadata": {
    "collapsed": false
   },
   "outputs": [
    {
     "name": "stdout",
     "output_type": "stream",
     "text": [
      "None\n"
     ]
    }
   ],
   "source": [
    "out = fib(0)\n",
    "print(out)"
   ]
  },
  {
   "cell_type": "code",
   "execution_count": 4,
   "metadata": {
    "collapsed": false
   },
   "outputs": [
    {
     "name": "stdout",
     "output_type": "stream",
     "text": [
      "[0, 1, 1, 2, 3, 5, 8, 13, 21, 34, 55, 89, 144, 233, 377, 610, 987, 1597]\n"
     ]
    }
   ],
   "source": [
    "def fib(n):\n",
    "    \"\"\"Print a Fibonacci series up to n.\n",
    "    \n",
    "    Parameters\n",
    "    ----------\n",
    "    n : int\n",
    "        Any integer number larger than zero\n",
    "        \n",
    "    Returns\n",
    "    -------\n",
    "    result : list\n",
    "        Fibonacci series\n",
    "        \n",
    "    Notes\n",
    "    -----\n",
    "    yada yada ya\n",
    "    \n",
    "    Examples\n",
    "    --------\n",
    "    >>> out = fib(2000)\n",
    "    >>> print(out)\n",
    "    [0, 1, 1, 2, 3, 5, 8, 13, 21, 34, 55, 89, 144, 233, 377, 610, 987, 1597]\n",
    "    \n",
    "    \"\"\"\n",
    "    result = []\n",
    "    a, b = 0, 1\n",
    "    while a < n:\n",
    "        result.append(a)\n",
    "        a, b = b, a+b\n",
    "    return result\n",
    "\n",
    "out = fib(2000)\n",
    "print(out)"
   ]
  },
  {
   "cell_type": "markdown",
   "metadata": {},
   "source": [
    "## Positional arguments"
   ]
  },
  {
   "cell_type": "code",
   "execution_count": 5,
   "metadata": {
    "collapsed": false
   },
   "outputs": [
    {
     "name": "stdout",
     "output_type": "stream",
     "text": [
      "8 9\n"
     ]
    }
   ],
   "source": [
    "def power(x, a):\n",
    "    \"\"\"Take a power\"\"\"\n",
    "    return x**a\n",
    "\n",
    "print(power(2, 3), power(3, 2))"
   ]
  },
  {
   "cell_type": "markdown",
   "metadata": {},
   "source": [
    "## Default arguments"
   ]
  },
  {
   "cell_type": "code",
   "execution_count": 6,
   "metadata": {
    "collapsed": false
   },
   "outputs": [
    {
     "name": "stdout",
     "output_type": "stream",
     "text": [
      "4 9\n"
     ]
    }
   ],
   "source": [
    "def power(x, a=2):\n",
    "    \"\"\"Take a power\"\"\"\n",
    "    return x**a\n",
    "\n",
    "print(power(2), power(3))"
   ]
  },
  {
   "cell_type": "code",
   "execution_count": 10,
   "metadata": {
    "collapsed": false
   },
   "outputs": [
    {
     "name": "stdout",
     "output_type": "stream",
     "text": [
      "5\n"
     ]
    }
   ],
   "source": [
    "i = 5\n",
    "\n",
    "def fun(arg=i):\n",
    "    print(arg)\n",
    "\n",
    "i = 6\n",
    "fun()"
   ]
  },
  {
   "cell_type": "code",
   "execution_count": 11,
   "metadata": {
    "collapsed": false
   },
   "outputs": [
    {
     "name": "stdout",
     "output_type": "stream",
     "text": [
      "[1]\n",
      "[1, 2]\n",
      "[1, 2, 3]\n"
     ]
    }
   ],
   "source": [
    "def fun(a, L=[]):\n",
    "    L.append(a)\n",
    "    return L\n",
    "\n",
    "print(fun(1))\n",
    "print(fun(2))\n",
    "print(fun(3))"
   ]
  },
  {
   "cell_type": "code",
   "execution_count": 12,
   "metadata": {
    "collapsed": false
   },
   "outputs": [
    {
     "name": "stdout",
     "output_type": "stream",
     "text": [
      "[1]\n",
      "[2]\n",
      "[3]\n"
     ]
    }
   ],
   "source": [
    "def fun(a, L=None):\n",
    "    if L is None:\n",
    "        L = []\n",
    "    L.append(a)\n",
    "    return L\n",
    "\n",
    "print(fun(1))\n",
    "print(fun(2))\n",
    "print(fun(3))"
   ]
  },
  {
   "cell_type": "markdown",
   "metadata": {},
   "source": [
    "## Keyword arguments"
   ]
  },
  {
   "cell_type": "code",
   "execution_count": 13,
   "metadata": {
    "collapsed": false
   },
   "outputs": [
    {
     "name": "stdout",
     "output_type": "stream",
     "text": [
      "['one', 'fish,', 'two', 'fish,', 'red', 'fish,', 'blue', 'fish']\n",
      "['one', 'fish,', 'two', 'fish,', 'red', 'fish,', 'blue', 'fish']\n",
      "['one', 'two', 'red', 'blue']\n",
      "['fish,', 'fish,', 'fish,', 'fish']\n",
      "['fish,', 'fish,']\n",
      "['fish,', 'fish,']\n"
     ]
    }
   ],
   "source": [
    "def slicer(seq, start=None, stop=None, step=None):\n",
    "    return seq[start:stop:step]\n",
    "\n",
    "rhyme = 'one fish, two fish, red fish, blue fish'.split()\n",
    "print(rhyme)\n",
    "print(slicer(rhyme))\n",
    "print(slicer(rhyme, step=2))\n",
    "print(slicer(rhyme, 1, step=2))\n",
    "print(slicer(rhyme, start=1, step=2, stop=4))\n",
    "print(slicer(rhyme, 1, 4, 2))"
   ]
  },
  {
   "cell_type": "code",
   "execution_count": 14,
   "metadata": {
    "collapsed": false
   },
   "outputs": [
    {
     "ename": "SyntaxError",
     "evalue": "non-keyword arg after keyword arg (<ipython-input-14-2cd338f4bac9>, line 2)",
     "output_type": "error",
     "traceback": [
      "\u001b[1;36m  File \u001b[1;32m\"<ipython-input-14-2cd338f4bac9>\"\u001b[1;36m, line \u001b[1;32m2\u001b[0m\n\u001b[1;33m    slicer(start=2, 'Python')    # non-keyword argument after a keyword argument\u001b[0m\n\u001b[1;37m                   ^\u001b[0m\n\u001b[1;31mSyntaxError\u001b[0m\u001b[1;31m:\u001b[0m non-keyword arg after keyword arg\n"
     ]
    }
   ],
   "source": [
    "slicer()                     # required argument missing\n",
    "slicer(start=2, 'Python')    # non-keyword argument after a keyword argument\n",
    "slicer('Python', 2, start=3) # duplicate value for the same argument\n",
    "slicer(actor='John Cleese')  # unknown keyword argument"
   ]
  },
  {
   "cell_type": "markdown",
   "metadata": {},
   "source": [
    "## Arbitrary argument lists"
   ]
  },
  {
   "cell_type": "code",
   "execution_count": 15,
   "metadata": {
    "collapsed": false
   },
   "outputs": [
    {
     "name": "stdout",
     "output_type": "stream",
     "text": [
      "First mandatory argument: 2\n",
      "\n",
      "Optional positional arguments:\n",
      "Argument number \"0\" is \"a\"\n",
      "Argument number \"1\" is \"Python\"\n",
      "\n",
      "Optional keyword arguments:\n",
      "Argument called \"limit\" is \"100.0\"\n",
      "Argument called \"method\" is \"OLS\"\n"
     ]
    }
   ],
   "source": [
    "def fun(var, *args, **kwargs):\n",
    "    print('First mandatory argument:', var)\n",
    "    if len(args) > 0:\n",
    "        print('\\nOptional positional arguments:')\n",
    "    for idx, arg in enumerate(args):\n",
    "        print('Argument number \"%s\" is \"%s\"' % (idx, arg))\n",
    "    if len(kwargs) > 0:\n",
    "        print('\\nOptional keyword arguments:')\n",
    "    for key, value in kwargs.items():\n",
    "        print('Argument called \"%s\" is \"%s\"' % (key, value))\n",
    "    \n",
    "fun(2, 'a', 'Python', method='OLS', limit=1e2)"
   ]
  },
  {
   "cell_type": "code",
   "execution_count": 16,
   "metadata": {
    "collapsed": false
   },
   "outputs": [
    {
     "name": "stdout",
     "output_type": "stream",
     "text": [
      "First mandatory argument: 2\n"
     ]
    }
   ],
   "source": [
    "fun(2)"
   ]
  },
  {
   "cell_type": "code",
   "execution_count": 17,
   "metadata": {
    "collapsed": false
   },
   "outputs": [
    {
     "name": "stdout",
     "output_type": "stream",
     "text": [
      "First mandatory argument: 2\n",
      "\n",
      "Optional positional arguments:\n",
      "Argument number \"0\" is \"a\"\n",
      "Argument number \"1\" is \"Python\"\n",
      "\n",
      "Optional keyword arguments:\n",
      "Argument called \"limit\" is \"100.0\"\n",
      "Argument called \"method\" is \"OLS\"\n"
     ]
    }
   ],
   "source": [
    "args = ('a', 'Python')\n",
    "kwargs = {'method': 'OLS', 'limit': 1e2}\n",
    "fun(2, *args, **kwargs)"
   ]
  },
  {
   "cell_type": "markdown",
   "metadata": {},
   "source": [
    "## Lambda functions"
   ]
  },
  {
   "cell_type": "code",
   "execution_count": 19,
   "metadata": {
    "collapsed": false
   },
   "outputs": [
    {
     "name": "stdout",
     "output_type": "stream",
     "text": [
      "0 8\n",
      "0 8\n"
     ]
    }
   ],
   "source": [
    "def make_power(n):\n",
    "    return lambda x: x ** n\n",
    "\n",
    "power = make_power(3)\n",
    "print(power(0), power(2))\n",
    "\n",
    "power = lambda x: x ** 3\n",
    "print(power(0), power(2))"
   ]
  },
  {
   "cell_type": "code",
   "execution_count": 20,
   "metadata": {
    "collapsed": false
   },
   "outputs": [
    {
     "name": "stdout",
     "output_type": "stream",
     "text": [
      "[(4, 'four'), (1, 'one'), (3, 'three'), (2, 'two')]\n"
     ]
    }
   ],
   "source": [
    "pairs = [(1, 'one'), (2, 'two'), (3, 'three'), (4, 'four')]\n",
    "pairs.sort(key=lambda pair: pair[1])\n",
    "print(pairs)"
   ]
  },
  {
   "cell_type": "markdown",
   "metadata": {},
   "source": [
    "## Passing by value"
   ]
  },
  {
   "cell_type": "code",
   "execution_count": 21,
   "metadata": {
    "collapsed": false
   },
   "outputs": [
    {
     "name": "stdout",
     "output_type": "stream",
     "text": [
      "23 [99, 42] [99]\n",
      "77 [99, 42] [28]\n"
     ]
    }
   ],
   "source": [
    "def try_to_modify(x, y, z):\n",
    "    x = 23 # immutable object\n",
    "    y.append(42)\n",
    "    z = [99] # reference to new object\n",
    "    print(x, y, z)\n",
    "\n",
    "a = 77    # immutable variable\n",
    "b = [99]  # mutable variable\n",
    "c = [28]\n",
    "try_to_modify(a, b, c)\n",
    "print(a, b, c)"
   ]
  }
 ],
 "metadata": {
  "kernelspec": {
   "display_name": "Python [default]",
   "language": "python",
   "name": "python3"
  },
  "language_info": {
   "codemirror_mode": {
    "name": "ipython",
    "version": 3
   },
   "file_extension": ".py",
   "mimetype": "text/x-python",
   "name": "python",
   "nbconvert_exporter": "python",
   "pygments_lexer": "ipython3",
   "version": "3.5.2"
  }
 },
 "nbformat": 4,
 "nbformat_minor": 0
}
