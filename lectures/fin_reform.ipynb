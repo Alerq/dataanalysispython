{
 "cells": [
  {
   "cell_type": "markdown",
   "metadata": {},
   "source": [
    "# Financial Reform Indicators\n",
    "\n",
    "A New Database of Financial Reforms: https://www.imf.org/external/pubs/cat/longres.aspx?sk=22485.0"
   ]
  },
  {
   "cell_type": "code",
   "execution_count": 1,
   "metadata": {
    "collapsed": false
   },
   "outputs": [],
   "source": [
    "import requests\n",
    "import zipfile\n",
    "\n",
    "import numpy as np\n",
    "import pandas as pd\n",
    "\n",
    "pd.set_option('float_format', '{:6.2f}'.format)"
   ]
  },
  {
   "cell_type": "markdown",
   "metadata": {},
   "source": [
    "Download data and save it to disk. Also consider using ``urllib`` and ``urllib2``."
   ]
  },
  {
   "cell_type": "code",
   "execution_count": 2,
   "metadata": {
    "collapsed": false
   },
   "outputs": [],
   "source": [
    "url = 'https://www.imf.org/external/pubs/ft/wp/2008/Data/wp08266.zip'\n",
    "path = '../data/IMF_Fin_Reform/fin_reform.zip'\n",
    "\n",
    "response = requests.get(url)\n",
    "with open(path, \"wb\") as file:\n",
    "    file.write(response.content)"
   ]
  },
  {
   "cell_type": "markdown",
   "metadata": {},
   "source": [
    "Display contents of the zip file."
   ]
  },
  {
   "cell_type": "code",
   "execution_count": 3,
   "metadata": {
    "collapsed": false
   },
   "outputs": [
    {
     "name": "stdout",
     "output_type": "stream",
     "text": [
      "['Financial Reform Dataset Dec 2008.dta', 'Financial Reform Dataset Dec 2008.xls']\n"
     ]
    }
   ],
   "source": [
    "zf = zipfile.ZipFile(path)\n",
    "files = zf.namelist()\n",
    "\n",
    "print(files)"
   ]
  },
  {
   "cell_type": "markdown",
   "metadata": {},
   "source": [
    "Import `Readme` list from Excel file which contains variable names and long labels."
   ]
  },
  {
   "cell_type": "code",
   "execution_count": 4,
   "metadata": {
    "collapsed": false
   },
   "outputs": [
    {
     "name": "stdout",
     "output_type": "stream",
     "text": [
      "                                                       Description\n",
      "Variable                                                          \n",
      "country                                               Country name\n",
      "ifs                                       IFS 3-digit country code\n",
      "wdi                                      WDI 3-letter country code\n",
      "year                                                          Year\n",
      "directedcredit                Directed credit/reserve requirements\n",
      "creditceilings                           Aggregate Credit Ceilings\n",
      "creditcontrols   Credit Controls, defined as 0.75*DIRECTEDCREDI...\n",
      "intratecontrols                             Interest rate controls\n",
      "entrybarriers              Entry barriers/pro-competition measures\n",
      "bankingsuperv                                  Banking Supervision\n",
      "privatization                                        Privatization\n",
      "intlcapital                            International capital flows\n",
      "securitymarkets                                   Security Markets\n",
      "finreform        Financial Reform Index, 0 to 21, sum of seven ...\n",
      "finreform_n      Financial Reform Index, normalized to be betwe...\n",
      "large_reversal                          Dummy=1 if D.finreform<=-3\n",
      "reversal                 Dummy=1 if D.finreform<0 & D.finreform>-3\n",
      "reform                   Dummy=1 if D.finreform>0 & D.finreform<=2\n",
      "large_reform                              Dummy=1 if D.finreform>2\n",
      "status_quo                               Dummy=1 if D.finreform==0\n",
      "Advanced                              Dummy for advanced countries\n",
      "Emerging_Asia                              Dummy for emerging Asia\n",
      "Latin_America                              Dummy for Latin America\n",
      "SSA                                   Dummy for Sub-Saharan Africa\n",
      "Transition                          Dummy for transition countries\n",
      "MENA                        Dummy for Middle East and North Africa\n"
     ]
    }
   ],
   "source": [
    "readme = pd.read_excel(zf.open(files[1]), 'Readme',\n",
    "                       skiprows=6, index_col=0).dropna()\n",
    "\n",
    "print(readme)"
   ]
  },
  {
   "cell_type": "markdown",
   "metadata": {},
   "source": [
    "Load data from `Stata` `*.dta` file. Display data types."
   ]
  },
  {
   "cell_type": "code",
   "execution_count": 5,
   "metadata": {
    "collapsed": false
   },
   "outputs": [
    {
     "name": "stdout",
     "output_type": "stream",
     "text": [
      "country             object\n",
      "ifs                  int16\n",
      "wdi                 object\n",
      "year                 int16\n",
      "directedcredit        int8\n",
      "creditceilings     float64\n",
      "creditcontrols     float32\n",
      "intratecontrols       int8\n",
      "entrybarriers         int8\n",
      "bankingsuperv         int8\n",
      "privatization         int8\n",
      "intlcapital           int8\n",
      "securitymarkets       int8\n",
      "finreform          float32\n",
      "finreform_n        float32\n",
      "large_reversal     float64\n",
      "reversal           float64\n",
      "reform             float64\n",
      "large_reform       float64\n",
      "status_quo         float64\n",
      "Advanced              int8\n",
      "Emerging_Asia         int8\n",
      "Latin_America         int8\n",
      "SSA                   int8\n",
      "Transition            int8\n",
      "MENA                  int8\n",
      "dtype: object\n"
     ]
    }
   ],
   "source": [
    "raw = pd.read_stata(zf.open(files[0]))\n",
    "\n",
    "print(raw.dtypes)"
   ]
  },
  {
   "cell_type": "code",
   "execution_count": 6,
   "metadata": {
    "collapsed": false
   },
   "outputs": [
    {
     "name": "stdout",
     "output_type": "stream",
     "text": [
      "            country  year  finreform  Advanced\n",
      "2508  United States  1973      13.25         1\n",
      "2509  United States  1974      13.25         1\n",
      "2510  United States  1975      13.25         1\n",
      "2511  United States  1976      13.25         1\n",
      "2512  United States  1977      13.25         1\n",
      "            country  year  finreform  Advanced\n",
      "2536  United States  2001      21.00         1\n",
      "2537  United States  2002      21.00         1\n",
      "2538  United States  2003      21.00         1\n",
      "2539  United States  2004      21.00         1\n",
      "2540  United States  2005      21.00         1\n"
     ]
    }
   ],
   "source": [
    "df = raw[['country', 'year', 'finreform', 'Advanced']]\n",
    "df = df[df['country'] == 'United States']\n",
    "\n",
    "print(df.head())\n",
    "print(df.tail())"
   ]
  },
  {
   "cell_type": "markdown",
   "metadata": {},
   "source": [
    "Combine region dummies into one categorical index.\n",
    "\n",
    "More details on categorical data can be found here: http://pandas.pydata.org/pandas-docs/stable/categorical.html"
   ]
  },
  {
   "cell_type": "code",
   "execution_count": 7,
   "metadata": {
    "collapsed": false
   },
   "outputs": [
    {
     "name": "stdout",
     "output_type": "stream",
     "text": [
      "count         2671\n",
      "unique           6\n",
      "top       Advanced\n",
      "freq           726\n",
      "Name: Region, dtype: object\n"
     ]
    }
   ],
   "source": [
    "data = raw.copy()\n",
    "categories = list(readme.index[-6:])\n",
    "data['Region'] = np.nan\n",
    "\n",
    "for category in categories:\n",
    "    cat = ['non-' + category, category]\n",
    "    data[category] = pd.Categorical.from_codes(data[category],\n",
    "                                               categories=cat)\n",
    "    condition = data[category] == category\n",
    "    data.ix[condition, 'Region'] = data.ix[condition, category]\n",
    "\n",
    "data['Region'] = data['Region'].astype('category')\n",
    "\n",
    "print(data['Region'].describe())"
   ]
  },
  {
   "cell_type": "code",
   "execution_count": 8,
   "metadata": {
    "collapsed": false
   },
   "outputs": [
    {
     "name": "stdout",
     "output_type": "stream",
     "text": [
      "   year  country      Region\n",
      "0  1991  Albania  Transition\n",
      "1  1992  Albania  Transition\n",
      "2  1993  Albania  Transition\n",
      "3  1994  Albania  Transition\n",
      "4  1995  Albania  Transition\n",
      "0    Transition\n",
      "1    Transition\n",
      "2    Transition\n",
      "3    Transition\n",
      "4    Transition\n",
      "Name: Region, dtype: category\n",
      "Categories (6, object): [Advanced, Emerging_Asia, Latin_America, MENA, SSA, Transition]\n"
     ]
    }
   ],
   "source": [
    "print(data[['year', 'country', 'Region']].head())\n",
    "print(data['Region'].head())"
   ]
  },
  {
   "cell_type": "markdown",
   "metadata": {},
   "source": [
    "Index data by regions, countries, and years. Sort index. Show overall descriptive statistics."
   ]
  },
  {
   "cell_type": "code",
   "execution_count": 9,
   "metadata": {
    "collapsed": false
   },
   "outputs": [
    {
     "name": "stdout",
     "output_type": "stream",
     "text": [
      "['Advanced', 'Emerging_Asia', 'Latin_America', 'SSA', 'Transition', 'MENA', 'Region', 'country', 'year']\n",
      "       finreform_n\n",
      "count      2671.00\n",
      "mean         49.15\n",
      "std          30.15\n",
      "min           0.00\n",
      "25%          22.62\n",
      "50%          50.00\n",
      "75%          73.81\n",
      "max         100.00\n"
     ]
    }
   ],
   "source": [
    "categories.append('Region')\n",
    "categories.extend(['country', 'year'])\n",
    "print(categories)\n",
    "\n",
    "data = data.set_index(categories)[['finreform_n']].sort_index() * 100\n",
    "\n",
    "print(data.describe())"
   ]
  },
  {
   "cell_type": "markdown",
   "metadata": {},
   "source": [
    "How many countries do we have?"
   ]
  },
  {
   "cell_type": "code",
   "execution_count": 10,
   "metadata": {
    "collapsed": false
   },
   "outputs": [
    {
     "name": "stdout",
     "output_type": "stream",
     "text": [
      "['Australia' 'Austria' 'Belgium' 'Britain' 'Canada' 'Denmark' 'Finland'\n",
      " 'France' 'Germany' 'Greece' 'Ireland' 'Israel' 'Italy' 'Japan'\n",
      " 'Netherlands' 'New Zealand' 'Norway' 'Portugal' 'Spain' 'Sweden'\n",
      " 'Switzerland' 'United States' 'Bangladesh' 'China' 'Hong Kong' 'India'\n",
      " 'Indonesia' 'Korea' 'Malaysia' 'Nepal' 'Philippines' 'Singapore'\n",
      " 'Sri Lanka' 'Taiwan' 'Thailand' 'Argentina' 'Bolivia' 'Brazil' 'Chile'\n",
      " 'Colombia' 'Costa Rica' 'Dominican Rep' 'Ecuador' 'El Salvador'\n",
      " 'Guatemala' 'Jamaica' 'Mexico' 'Nicaragua' 'Paraguay' 'Peru' 'Uruguay'\n",
      " 'Venezuela' 'Burkina-Faso' 'Cameroon' 'Cote d Ivoire' 'Ethiopia' 'Ghana'\n",
      " 'Kenya' 'Madagascar' 'Mozambique' 'Nigeria' 'Senegal' 'South Africa'\n",
      " 'Tanzania' 'Uganda' 'Zimbabwe' 'Albania' 'Azerbaijan' 'Belarus' 'Bulgaria'\n",
      " 'Czech Rep' 'Estonia' 'Georgia' 'Hungary' 'Kazakhstan' 'Kyrgyz Rep'\n",
      " 'Latvia' 'Lithuania' 'Poland' 'Romania' 'Russia' 'Ukraine' 'Uzbekistan'\n",
      " 'Vietnam' 'Algeria' 'Egypt' 'Jordan' 'Morocco' 'Pakistan' 'Tunisia'\n",
      " 'Turkey']\n",
      "91\n"
     ]
    }
   ],
   "source": [
    "countries = data.index.get_level_values('country').unique()\n",
    "\n",
    "print(countries)\n",
    "print(len(countries))"
   ]
  },
  {
   "cell_type": "markdown",
   "metadata": {},
   "source": [
    "How many year observations do we have for each country?"
   ]
  },
  {
   "cell_type": "code",
   "execution_count": 11,
   "metadata": {
    "collapsed": false
   },
   "outputs": [
    {
     "name": "stdout",
     "output_type": "stream",
     "text": [
      "count    91.00\n",
      "mean     29.35\n",
      "std       7.22\n",
      "min      13.00\n",
      "25%      33.00\n",
      "50%      33.00\n",
      "75%      33.00\n",
      "max      33.00\n",
      "Name: year, dtype: float64\n"
     ]
    }
   ],
   "source": [
    "counts = data.reset_index('year')['year'].groupby(level='country').count()\n",
    "\n",
    "print(counts.describe())"
   ]
  },
  {
   "cell_type": "markdown",
   "metadata": {},
   "source": [
    "Which countries have the most missing values?"
   ]
  },
  {
   "cell_type": "code",
   "execution_count": 12,
   "metadata": {
    "collapsed": false
   },
   "outputs": [
    {
     "name": "stdout",
     "output_type": "stream",
     "text": [
      "country\n",
      "Russia        13\n",
      "Latvia        14\n",
      "Lithuania     14\n",
      "Belarus       14\n",
      "Kazakhstan    15\n",
      "Name: year, dtype: int64\n"
     ]
    }
   ],
   "source": [
    "print(counts.order().head())"
   ]
  },
  {
   "cell_type": "markdown",
   "metadata": {},
   "source": [
    "Compute the change in financial reform index year-to-year for each country."
   ]
  },
  {
   "cell_type": "code",
   "execution_count": 13,
   "metadata": {
    "collapsed": false
   },
   "outputs": [
    {
     "name": "stdout",
     "output_type": "stream",
     "text": [
      "Index(['finreform_n', 'finreform change'], dtype='object')\n",
      "['Advanced', 'Emerging_Asia', 'Latin_America', 'SSA', 'Transition', 'MENA', 'Region', 'country', 'year']\n",
      "                         finreform_n  finreform change\n",
      "Region   country   year                               \n",
      "Advanced Australia 1973         9.52               nan\n",
      "                   1974         9.52              0.00\n",
      "                   1975         9.52              0.00\n",
      "                   1976         9.52              0.00\n",
      "                   1977         9.52              0.00\n"
     ]
    }
   ],
   "source": [
    "data['finreform change'] = data.groupby(level=categories[:-1]).diff()\n",
    "\n",
    "print(data.columns)\n",
    "print(data.index.names)\n",
    "print(data.reset_index(categories[:-3], drop=True).head())"
   ]
  },
  {
   "cell_type": "markdown",
   "metadata": {},
   "source": [
    "Compute average change in financial reform indicator."
   ]
  },
  {
   "cell_type": "code",
   "execution_count": 14,
   "metadata": {
    "collapsed": false
   },
   "outputs": [
    {
     "name": "stdout",
     "output_type": "stream",
     "text": [
      "                           finreform change\n",
      "Region        country                      \n",
      "SSA           Ethiopia                 0.00\n",
      "Advanced      Switzerland              0.45\n",
      "              Germany                  0.89\n",
      "Emerging_Asia Nepal                    1.04\n",
      "              Hong Kong                1.04\n"
     ]
    }
   ],
   "source": [
    "table = data.groupby(level=categories[:-1])[['finreform change']].mean()\n",
    "table.sort_index(by='finreform change', inplace=True)\n",
    "\n",
    "print(table.reset_index(categories[:-3], drop=True).head())"
   ]
  },
  {
   "cell_type": "markdown",
   "metadata": {},
   "source": [
    "Print descriptive statistics for the change in financial reform indicator."
   ]
  },
  {
   "cell_type": "code",
   "execution_count": 15,
   "metadata": {
    "collapsed": false
   },
   "outputs": [
    {
     "name": "stdout",
     "output_type": "stream",
     "text": [
      "count    91.00\n",
      "mean      2.22\n",
      "std       1.09\n",
      "min       0.00\n",
      "25%       1.58\n",
      "50%       1.93\n",
      "75%       2.48\n",
      "max       5.68\n",
      "Name: finreform change, dtype: float64\n"
     ]
    }
   ],
   "source": [
    "print(table['finreform change'].describe())"
   ]
  },
  {
   "cell_type": "markdown",
   "metadata": {},
   "source": [
    "Divide countries into three equal groups by the speed of financial reforms."
   ]
  },
  {
   "cell_type": "code",
   "execution_count": 16,
   "metadata": {
    "collapsed": false
   },
   "outputs": [
    {
     "name": "stdout",
     "output_type": "stream",
     "text": [
      "                           finreform change change group\n",
      "Region        country                                   \n",
      "SSA           Ethiopia                 0.00         slow\n",
      "Advanced      Switzerland              0.45         slow\n",
      "              Germany                  0.89         slow\n",
      "Emerging_Asia Nepal                    1.04         slow\n",
      "              Hong Kong                1.04         slow\n"
     ]
    }
   ],
   "source": [
    "labels = ['slow', 'medium', 'fast']\n",
    "table['change group'] = pd.cut(table['finreform change'],\n",
    "                               3, labels=labels)\n",
    "\n",
    "print(table.reset_index(categories[:-3], drop=True).head())"
   ]
  },
  {
   "cell_type": "markdown",
   "metadata": {},
   "source": [
    "Compare the number of countries by speed of financial reforms and by (non)advanced."
   ]
  },
  {
   "cell_type": "code",
   "execution_count": 17,
   "metadata": {
    "collapsed": false
   },
   "outputs": [
    {
     "name": "stdout",
     "output_type": "stream",
     "text": [
      "Advanced      Advanced  non-Advanced\n",
      "change group                        \n",
      "slow             11.00         30.00\n",
      "medium           11.00         28.00\n",
      "fast               nan         11.00\n"
     ]
    }
   ],
   "source": [
    "table2 = table.set_index('change group', append=True)\n",
    "level = ['Advanced', 'change group']\n",
    "table2 = table2.groupby(level=level)['finreform change'].count()\n",
    "table2 = table2.unstack('Advanced')\n",
    "\n",
    "print(table2)"
   ]
  },
  {
   "cell_type": "markdown",
   "metadata": {},
   "source": [
    "Same for (non)transiton countries."
   ]
  },
  {
   "cell_type": "code",
   "execution_count": 18,
   "metadata": {
    "collapsed": false
   },
   "outputs": [
    {
     "name": "stdout",
     "output_type": "stream",
     "text": [
      "Transition    Transition  non-Transition\n",
      "change group                            \n",
      "slow                 nan           41.00\n",
      "medium              7.00           32.00\n",
      "fast               11.00             nan\n"
     ]
    }
   ],
   "source": [
    "table2 = table.set_index('change group', append=True)\n",
    "level = ['Transition', 'change group']\n",
    "table2 = table2.groupby(level=level)['finreform change'].count()\n",
    "table2 = table2.unstack('Transition')\n",
    "\n",
    "print(table2)"
   ]
  },
  {
   "cell_type": "markdown",
   "metadata": {},
   "source": [
    "Print descriptive statistics of financial reform changes by region."
   ]
  },
  {
   "cell_type": "code",
   "execution_count": 19,
   "metadata": {
    "collapsed": false
   },
   "outputs": [
    {
     "name": "stdout",
     "output_type": "stream",
     "text": [
      "Region\n",
      "Advanced          1.82\n",
      "Emerging_Asia     1.70\n",
      "Latin_America     1.99\n",
      "MENA              1.75\n",
      "SSA               1.62\n",
      "Transition        3.96\n",
      "Name: mean, dtype: float64\n"
     ]
    }
   ],
   "source": [
    "table2 = table.groupby(level='Region')['finreform change'].describe().unstack('Region')\n",
    "\n",
    "print(table2.ix['mean', :])"
   ]
  },
  {
   "cell_type": "markdown",
   "metadata": {},
   "source": [
    "Which country has the highest pace of implementing finacial reforms among transition countries?"
   ]
  },
  {
   "cell_type": "code",
   "execution_count": 20,
   "metadata": {
    "collapsed": false
   },
   "outputs": [
    {
     "name": "stdout",
     "output_type": "stream",
     "text": [
      "country\n",
      "Lithuania     5.68\n",
      "Albania       5.44\n",
      "Romania       5.32\n",
      "Latvia        5.31\n",
      "Czech Rep     4.92\n",
      "Name: finreform change, dtype: float32\n"
     ]
    }
   ],
   "source": [
    "table3 = table.xs('Transition', level='Transition')\n",
    "table3 = table3.sort_index(by='finreform change', ascending=False)\n",
    "\n",
    "print(table3.reset_index(table3.index.names[:-1], drop=True)['finreform change'].head())"
   ]
  }
 ],
 "metadata": {
  "kernelspec": {
   "display_name": "Python [default]",
   "language": "python",
   "name": "python3"
  },
  "language_info": {
   "codemirror_mode": {
    "name": "ipython",
    "version": 3
   },
   "file_extension": ".py",
   "mimetype": "text/x-python",
   "name": "python",
   "nbconvert_exporter": "python",
   "pygments_lexer": "ipython3",
   "version": "3.5.2"
  }
 },
 "nbformat": 4,
 "nbformat_minor": 0
}
