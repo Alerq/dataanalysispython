{
 "cells": [
  {
   "cell_type": "markdown",
   "metadata": {},
   "source": [
    "# Elictricity\n",
    "\n",
    "Data source: http://www.eia.gov/electricity/data/eia861/"
   ]
  },
  {
   "cell_type": "markdown",
   "metadata": {},
   "source": [
    "Set up the environment and load libraries."
   ]
  },
  {
   "cell_type": "code",
   "execution_count": 1,
   "metadata": {
    "collapsed": true
   },
   "outputs": [],
   "source": [
    "import re\n",
    "import requests\n",
    "import zipfile\n",
    "\n",
    "import numpy as np\n",
    "import pandas as pd\n",
    "\n",
    "pd.set_option('float_format', '{:6.2f}'.format)"
   ]
  },
  {
   "cell_type": "markdown",
   "metadata": {},
   "source": [
    "Download the webpage with data links."
   ]
  },
  {
   "cell_type": "code",
   "execution_count": 2,
   "metadata": {
    "collapsed": false
   },
   "outputs": [],
   "source": [
    "url = 'http://www.eia.gov/electricity/data/eia861/'\n",
    "response = requests.get(url)"
   ]
  },
  {
   "cell_type": "markdown",
   "metadata": {},
   "source": [
    "Find all zip files mentioned on the webpage with the help of regular expressions."
   ]
  },
  {
   "cell_type": "code",
   "execution_count": 3,
   "metadata": {
    "collapsed": false
   },
   "outputs": [
    {
     "name": "stdout",
     "output_type": "stream",
     "text": [
      "['f8612014er.zip', 'f8612013.zip', 'f8612012.zip', 'f86111.zip', 'f86110.zip', 'f86109.zip', 'f86108.zip', 'f86107.zip', 'f86106.zip', 'f86105.zip', 'f86104.zip', 'f86103.zip', 'f86102.zip', 'f86101.zip', 'f86100.zip', 'f86199.zip', 'f86198.zip', 'f86197.zip', 'f86196.zip', 'f86195.zip', 'f86194.zip', 'f86193.zip', 'f86192.zip', 'f86191.zip', 'f86190.zip']\n"
     ]
    }
   ],
   "source": [
    "fnames = re.findall('zip\\/(.*?\\.zip)', str(response.content))\n",
    "print(fnames)"
   ]
  },
  {
   "cell_type": "markdown",
   "metadata": {},
   "source": [
    "Find all years from zip file names."
   ]
  },
  {
   "cell_type": "code",
   "execution_count": 4,
   "metadata": {
    "collapsed": false
   },
   "outputs": [
    {
     "name": "stdout",
     "output_type": "stream",
     "text": [
      "[2014, 2013, 2012, 2011, 2010, 2009, 2008, 2007, 2006, 2005, 2004, 2003, 2002, 2001, 2000, 1999, 1998, 1997, 1996, 1995, 1994, 1993, 1992, 1991, 1990]\n"
     ]
    }
   ],
   "source": [
    "years = [re.search('\\d+', x).group()[-2:] for x in fnames]\n",
    "years = ['20' + x if int(x) < 50 else '19' + x for x in years]\n",
    "years = [int(x) for x in years]\n",
    "print(years)"
   ]
  },
  {
   "cell_type": "code",
   "execution_count": 5,
   "metadata": {
    "collapsed": false
   },
   "outputs": [
    {
     "name": "stdout",
     "output_type": "stream",
     "text": [
      "{1990: 'f86190.zip', 1991: 'f86191.zip', 1992: 'f86192.zip', 1993: 'f86193.zip', 1994: 'f86194.zip', 1995: 'f86195.zip', 1996: 'f86196.zip', 1997: 'f86197.zip', 1998: 'f86198.zip', 1999: 'f86199.zip', 2000: 'f86100.zip', 2001: 'f86101.zip', 2002: 'f86102.zip', 2003: 'f86103.zip', 2004: 'f86104.zip', 2005: 'f86105.zip', 2006: 'f86106.zip', 2007: 'f86107.zip', 2008: 'f86108.zip', 2009: 'f86109.zip', 2010: 'f86110.zip', 2011: 'f86111.zip', 2012: 'f8612012.zip', 2013: 'f8612013.zip', 2014: 'f8612014er.zip'}\n"
     ]
    }
   ],
   "source": [
    "files = dict(zip(years, fnames))\n",
    "print(files)"
   ]
  },
  {
   "cell_type": "markdown",
   "metadata": {},
   "source": [
    "Download all zip files to the disk."
   ]
  },
  {
   "cell_type": "code",
   "execution_count": 6,
   "metadata": {
    "collapsed": false
   },
   "outputs": [],
   "source": [
    "path = '../data/Electricity/'\n",
    "\n",
    "for year, fname in files.items():\n",
    "    response = requests.get(url + 'zip/' + fname)\n",
    "    with open(path + str(year) + '.zip', \"wb\") as file:\n",
    "        file.write(response.content)"
   ]
  },
  {
   "cell_type": "markdown",
   "metadata": {},
   "source": [
    "Load year only 'Distributed_Generation_2013.xls' into Pandas DataFrame."
   ]
  },
  {
   "cell_type": "code",
   "execution_count": 7,
   "metadata": {
    "collapsed": false
   },
   "outputs": [
    {
     "name": "stdout",
     "output_type": "stream",
     "text": [
      "Number of Generators            int64\n",
      "Total Capacity in MWs         float64\n",
      "Capacity Back-up Only         float64\n",
      "Capacity Utility Owned        float64\n",
      "Estimated or Actual Data       object\n",
      "Internal Combustion Engine    float64\n",
      "Combusiton Turbine            float64\n",
      "Steam Turbine                 float64\n",
      "HydroElectric                 float64\n",
      "Wind                          float64\n",
      "Photovoltaic                  float64\n",
      "Storage                       float64\n",
      "Other                         float64\n",
      "Total                         float64\n",
      "Estimated or Actual Data.1     object\n",
      "dtype: object\n",
      "                                                              Number of Generators  \\\n",
      "Data Year Utility Number Utility Name                  State                         \n",
      "2013      276            Alcorn County Elec Power Assn MS                        9   \n",
      "          392            Alpena Power Co               MI                       29   \n",
      "          1529           Beltrami Electric Coop, Inc   MN                       15   \n",
      "          3046           Duke Energy Progress - (NC)   NC                      110   \n",
      "                                                       SC                        3   \n",
      "\n",
      "                                                              Total Capacity in MWs  \n",
      "Data Year Utility Number Utility Name                  State                         \n",
      "2013      276            Alcorn County Elec Power Assn MS                      8.00  \n",
      "          392            Alpena Power Co               MI                      6.90  \n",
      "          1529           Beltrami Electric Coop, Inc   MN                      0.10  \n",
      "          3046           Duke Energy Progress - (NC)   NC                     14.70  \n",
      "                                                       SC                      0.10  \n"
     ]
    }
   ],
   "source": [
    "generation = {2013: 'Distributed_Generation_2013.xls',\n",
    "              2012: 'distributed_generation_2012.xls'}\n",
    "\n",
    "year = 2013\n",
    "zf = zipfile.ZipFile(path + str(year) + '.zip')\n",
    "raw = pd.read_excel(zf.open(generation[year]),\n",
    "                    index_col=list(range(4)), na_values=['.'],\n",
    "                    sheetname=0, header=1).dropna()\n",
    "\n",
    "print(raw.dtypes)\n",
    "print(raw[['Number of Generators', 'Total Capacity in MWs']].head())"
   ]
  },
  {
   "cell_type": "markdown",
   "metadata": {},
   "source": [
    "Read two years of data and concatenate them into one dataset."
   ]
  },
  {
   "cell_type": "code",
   "execution_count": 8,
   "metadata": {
    "collapsed": false
   },
   "outputs": [
    {
     "name": "stdout",
     "output_type": "stream",
     "text": [
      "(513, 15)\n",
      "Number of Generators            int64\n",
      "Total Capacity in MWs         float64\n",
      "Capacity Back-up Only         float64\n",
      "Capacity Utility Owned        float64\n",
      "Estimated or Actual Data       object\n",
      "Internal Combustion Engine    float64\n",
      "Combusiton Turbine            float64\n",
      "Steam Turbine                 float64\n",
      "HydroElectric                 float64\n",
      "Wind                          float64\n",
      "Photovoltaic                  float64\n",
      "Storage                       float64\n",
      "Other                         float64\n",
      "Total                         float64\n",
      "Estimated or Actual Data.1     object\n",
      "dtype: object\n"
     ]
    }
   ],
   "source": [
    "raw_frames = []\n",
    "for year, name in generation.items():\n",
    "    zf = zipfile.ZipFile(path + str(year) + '.zip')\n",
    "    raw_frames.append(pd.read_excel(zf.open(generation[year]),\n",
    "                                    index_col=list(range(4)), na_values=['.'],\n",
    "                                    sheetname=0, header=1))\n",
    "\n",
    "distributed_generation = pd.concat(raw_frames)\n",
    "\n",
    "print(distributed_generation.shape)\n",
    "print(distributed_generation.dtypes)"
   ]
  },
  {
   "cell_type": "markdown",
   "metadata": {},
   "source": [
    "How many unique years, utility companies, and states do we have in the dataset?"
   ]
  },
  {
   "cell_type": "code",
   "execution_count": 9,
   "metadata": {
    "collapsed": false
   },
   "outputs": [
    {
     "name": "stdout",
     "output_type": "stream",
     "text": [
      "Data Year 2\n",
      "Utility Number 283\n",
      "Utility Name 297\n",
      "State 50\n"
     ]
    }
   ],
   "source": [
    "for level in distributed_generation.index.names:\n",
    "    print(level, distributed_generation.index.get_level_values(level).nunique())"
   ]
  },
  {
   "cell_type": "markdown",
   "metadata": {},
   "source": [
    "Aggregate capacity by year and state."
   ]
  },
  {
   "cell_type": "code",
   "execution_count": 10,
   "metadata": {
    "collapsed": false
   },
   "outputs": [
    {
     "name": "stdout",
     "output_type": "stream",
     "text": [
      "                 Companies  Capacity\n",
      "Data Year State                     \n",
      "2013      TN          1.00      0.00\n",
      "2012      TN          1.00      0.20\n",
      "          MT          2.00      0.20\n",
      "          WV          2.00      0.40\n",
      "2013      ND          1.00      0.90\n",
      "                 Companies  Capacity\n",
      "Data Year State                     \n",
      "2012      FL         10.00    254.00\n",
      "2013      MA          7.00    292.60\n",
      "          FL          9.00    294.90\n",
      "2012      CA         16.00    483.20\n",
      "2013      CA         16.00    621.60\n"
     ]
    }
   ],
   "source": [
    "fun = {'Capacity': np.sum, 'Companies': pd.Series.count}\n",
    "capacity = distributed_generation.groupby(level=['Data Year', 'State'])['Total'].agg(fun)\n",
    "capacity.sort_index(by='Capacity', inplace=True)\n",
    "\n",
    "print(capacity.head())\n",
    "print(capacity.tail())"
   ]
  },
  {
   "cell_type": "markdown",
   "metadata": {},
   "source": [
    "Compute means for each state."
   ]
  },
  {
   "cell_type": "code",
   "execution_count": 11,
   "metadata": {
    "collapsed": false
   },
   "outputs": [
    {
     "name": "stdout",
     "output_type": "stream",
     "text": [
      "       Companies  Capacity  Mean generation per company\n",
      "State                                                  \n",
      "TN          1.00      0.10                         0.10\n",
      "WV          2.00      0.40                         0.20\n",
      "SD          6.00      1.45                         0.24\n",
      "KS         10.50      8.50                         0.81\n",
      "NV          1.00      1.00                         1.00\n",
      "       Companies  Capacity  Mean generation per company\n",
      "State                                                  \n",
      "FL          9.50    274.45                        28.89\n",
      "CT          1.00     29.75                        29.75\n",
      "CA         16.00    552.40                        34.53\n",
      "MA          5.50    202.30                        36.78\n",
      "NJ          1.50     99.90                        66.60\n",
      "       Companies  Capacity  Mean generation per company\n",
      "count      50.00     50.00                        50.00\n",
      "mean        5.12     47.55                         9.68\n",
      "std         4.71     90.17                        12.65\n",
      "min         1.00      0.10                         0.10\n",
      "25%         2.00      6.61                         1.57\n",
      "50%         4.00     17.42                         4.94\n",
      "75%         6.00     43.30                        12.36\n",
      "max        22.50    552.40                        66.60\n"
     ]
    }
   ],
   "source": [
    "capacity_state = capacity.groupby(level='State').mean()\n",
    "capacity_state['Mean generation per company'] = capacity_state.eval('Capacity / Companies')\n",
    "capacity_state.sort_index(by='Mean generation per company', inplace=True)\n",
    "\n",
    "print(capacity_state.head())\n",
    "print(capacity_state.tail())\n",
    "print(capacity_state.describe())"
   ]
  },
  {
   "cell_type": "markdown",
   "metadata": {},
   "source": [
    "Compute Herfindahl index (https://en.wikipedia.org/wiki/Herfindahl_index) for each state. For that we first need to compute market share of each company."
   ]
  },
  {
   "cell_type": "code",
   "execution_count": 12,
   "metadata": {
    "collapsed": false
   },
   "outputs": [
    {
     "name": "stdout",
     "output_type": "stream",
     "text": [
      "Data Year  Utility Number  Utility Name              State\n",
      "2012       97              Adams Electric Coop       IL        0.05\n",
      "           122             Village of Arcade         NY        0.01\n",
      "           123             City of Adel- (GA)        GA        0.00\n",
      "           232             City of Albemarle - (NC)  NC        0.01\n",
      "           392             Alpena Power Co           MI        0.05\n",
      "dtype: float64\n",
      "count   508.00\n",
      "mean      0.19\n",
      "std       0.30\n",
      "min       0.00\n",
      "25%       0.01\n",
      "50%       0.04\n",
      "75%       0.20\n",
      "max       1.00\n",
      "dtype: float64\n"
     ]
    }
   ],
   "source": [
    "fun = {'Capacity': np.sum, 'Companies': pd.Series.count}\n",
    "share = distributed_generation.groupby(level=['Data Year', 'State'])['Total'].apply(lambda x: x / x.sum())\n",
    "\n",
    "print(share.head())\n",
    "print(share.describe())"
   ]
  },
  {
   "cell_type": "markdown",
   "metadata": {},
   "source": [
    "And now compute the index itself."
   ]
  },
  {
   "cell_type": "code",
   "execution_count": 13,
   "metadata": {
    "collapsed": false
   },
   "outputs": [
    {
     "name": "stdout",
     "output_type": "stream",
     "text": [
      "count    50.00\n",
      "mean      0.56\n",
      "std       0.30\n",
      "min       0.05\n",
      "25%       0.33\n",
      "50%       0.57\n",
      "75%       0.79\n",
      "max       1.00\n",
      "dtype: float64\n",
      "State\n",
      "KS     0.05\n",
      "UT     0.07\n",
      "NC     0.15\n",
      "KY     0.16\n",
      "CO     0.18\n",
      "dtype: float64\n",
      "State\n",
      "TN     1.00\n",
      "DC     1.00\n",
      "CT     1.00\n",
      "AR     1.00\n",
      "NV     1.00\n",
      "dtype: float64\n"
     ]
    }
   ],
   "source": [
    "def compute_hf(shares):\n",
    "    if len(shares) == 1:\n",
    "        return 1.\n",
    "    else:\n",
    "        return ((shares**2).sum() - 1/len(shares)) / (1 - 1/len(shares))\n",
    "\n",
    "hfindex = share.groupby(level=['Data Year', 'State']).apply(compute_hf)\n",
    "hfindex = hfindex.groupby(level='State').mean().order()\n",
    "\n",
    "print(hfindex.describe())\n",
    "print(hfindex.head())\n",
    "print(hfindex.tail())"
   ]
  },
  {
   "cell_type": "markdown",
   "metadata": {},
   "source": [
    "Compute capacity for eacy year and state by technology."
   ]
  },
  {
   "cell_type": "code",
   "execution_count": 14,
   "metadata": {
    "collapsed": false
   },
   "outputs": [
    {
     "name": "stdout",
     "output_type": "stream",
     "text": [
      "Storage                        0.18\n",
      "Steam Turbine                  0.91\n",
      "Combusiton Turbine             1.99\n",
      "HydroElectric                  2.26\n",
      "Wind                           3.72\n",
      "Other                          4.54\n",
      "Internal Combustion Engine    17.04\n",
      "Photovoltaic                  17.76\n",
      "Name: mean, dtype: float64\n"
     ]
    }
   ],
   "source": [
    "techs = raw.columns[5:-2]\n",
    "technology = distributed_generation.groupby(level=['Data Year', 'State'])[techs].sum().fillna(0)\n",
    "\n",
    "print(technology.describe().ix['mean'].order())"
   ]
  },
  {
   "cell_type": "markdown",
   "metadata": {},
   "source": [
    "Convert capacity to shares."
   ]
  },
  {
   "cell_type": "code",
   "execution_count": 15,
   "metadata": {
    "collapsed": false
   },
   "outputs": [
    {
     "name": "stdout",
     "output_type": "stream",
     "text": [
      "Storage                        0.00\n",
      "Combusiton Turbine             0.03\n",
      "Steam Turbine                  0.05\n",
      "Other                          0.06\n",
      "Wind                           0.07\n",
      "HydroElectric                  0.12\n",
      "Photovoltaic                   0.30\n",
      "Internal Combustion Engine     0.37\n",
      "Name: mean, dtype: float64\n"
     ]
    }
   ],
   "source": [
    "technology = technology.apply(lambda x: x / x.sum(), axis=1)\n",
    "\n",
    "print(technology.describe().ix['mean'].order())"
   ]
  },
  {
   "cell_type": "markdown",
   "metadata": {},
   "source": [
    "Compute Herfindahl index over technology types."
   ]
  },
  {
   "cell_type": "code",
   "execution_count": 16,
   "metadata": {
    "collapsed": false
   },
   "outputs": [
    {
     "name": "stdout",
     "output_type": "stream",
     "text": [
      "State\n",
      "MI     0.14\n",
      "IL     0.18\n",
      "LA     0.24\n",
      "NY     0.29\n",
      "CT     0.29\n",
      "dtype: float64\n",
      "State\n",
      "NJ     0.97\n",
      "MD     0.98\n",
      "NV     1.00\n",
      "AL     1.00\n",
      "WV     1.00\n",
      "dtype: float64\n",
      "count    50.00\n",
      "mean      0.61\n",
      "std       0.25\n",
      "min       0.14\n",
      "25%       0.43\n",
      "50%       0.56\n",
      "75%       0.86\n",
      "max       1.00\n",
      "dtype: float64\n"
     ]
    }
   ],
   "source": [
    "tech_hfindex = technology.apply(compute_hf, axis=1)\n",
    "tech_hfindex = tech_hfindex.groupby(level='State').mean().order()\n",
    "\n",
    "print(tech_hfindex.head())\n",
    "print(tech_hfindex.tail())\n",
    "print(tech_hfindex.describe())"
   ]
  },
  {
   "cell_type": "code",
   "execution_count": 17,
   "metadata": {
    "collapsed": false
   },
   "outputs": [
    {
     "name": "stdout",
     "output_type": "stream",
     "text": [
      "           Internal Combustion Engine  Combusiton Turbine  Steam Turbine  \\\n",
      "Data Year                                                                  \n",
      "2012                             0.10                0.31           0.08   \n",
      "2013                             0.09                0.28           0.10   \n",
      "\n",
      "           HydroElectric   Wind  Photovoltaic  Storage  Other  \n",
      "Data Year                                                      \n",
      "2012                0.05   0.35          0.10     0.00   0.01  \n",
      "2013                0.05   0.37          0.10     0.00   0.01  \n"
     ]
    }
   ],
   "source": [
    "df = technology.xs(tech_hfindex.index[0], level='State')\n",
    "print(df)"
   ]
  },
  {
   "cell_type": "markdown",
   "metadata": {},
   "source": [
    "Load efficiency data for 2013. Note that it does not have 'Ownership Type' column. We can load another dataset that has this column and merge them."
   ]
  },
  {
   "cell_type": "code",
   "execution_count": 18,
   "metadata": {
    "collapsed": false
   },
   "outputs": [
    {
     "name": "stdout",
     "output_type": "stream",
     "text": [
      "Data Year  Utility Number  Utility Name                   State  Ownership Type\n",
      "2013       122             Village of Arcade - (NY)       NY     Municipal          324.00\n",
      "           189             PowerSouth Energy Cooperative  AL     Cooperative       4428.00\n",
      "           195             Alabama Power Co               AL     Investor Owned   14657.00\n",
      "           207             City of Alameda                CA     Municipal         3076.00\n",
      "           295             City of Alexandria - (MN)      MN     Municipal         1867.00\n",
      "Name: Total, dtype: float64\n"
     ]
    }
   ],
   "source": [
    "efficiency = {2013: 'Energy_Efficiency_2013.xls',\n",
    "              2012: 'dsm_2012.xls'}\n",
    "\n",
    "year = 2013\n",
    "zf = zipfile.ZipFile(path + str(year) + '.zip')\n",
    "eff2013 = pd.read_excel(zf.open(efficiency[year]),\n",
    "                        index_col=list(range(4)), na_values=['.'],\n",
    "                        skipfooter=1, sheetname=0, header=2)\n",
    "\n",
    "zf = zipfile.ZipFile(path + str(year) + '.zip')\n",
    "utility_data2013 = pd.read_excel(zf.open('Utility_Data_2013.xls'),\n",
    "                               index_col=list(range(5)), na_values=['.'],\n",
    "                               sheetname=0, header=1)\n",
    "\n",
    "eff2013 = pd.merge(eff2013, utility_data2013.reset_index('Ownership Type'),\n",
    "                  left_index=True, right_index=True)\n",
    "\n",
    "eff2013.set_index('Ownership Type', append=True, inplace=True)\n",
    "\n",
    "eff2013 = eff2013.loc[:, 'Total']\n",
    "\n",
    "print(eff2013.head())"
   ]
  },
  {
   "cell_type": "markdown",
   "metadata": {},
   "source": [
    "Load efficiency data for 2012."
   ]
  },
  {
   "cell_type": "code",
   "execution_count": 19,
   "metadata": {
    "collapsed": false
   },
   "outputs": [
    {
     "name": "stdout",
     "output_type": "stream",
     "text": [
      "Data Year  Utility Number  Utility Name                    State  Ownership  \n",
      "2012       84              A & N Electric Coop             VA     Cooperative   100.00\n",
      "           97              Adams Electric Coop             IL     Cooperative     0.00\n",
      "           108             Adams-Columbia Electric Coop    WI     Cooperative     0.00\n",
      "           118             Adams Rural Electric Coop, Inc  OH     Cooperative     0.00\n",
      "           122             Village of Arcade               NY     Municipal       0.00\n",
      "Name: Total, dtype: float64\n"
     ]
    }
   ],
   "source": [
    "year = 2012\n",
    "zf = zipfile.ZipFile(path + str(year) + '.zip')\n",
    "eff2012 = pd.read_excel(zf.open(efficiency[year]),\n",
    "                        index_col=list(range(5)), na_values=['.'],\n",
    "                        sheetname=0, header=2)\n",
    "\n",
    "eff2012 = eff2012.loc[:, 'Total']\n",
    "\n",
    "print(eff2012.head())"
   ]
  },
  {
   "cell_type": "markdown",
   "metadata": {},
   "source": [
    "Concatenate two datasets."
   ]
  },
  {
   "cell_type": "code",
   "execution_count": 20,
   "metadata": {
    "collapsed": false
   },
   "outputs": [
    {
     "name": "stdout",
     "output_type": "stream",
     "text": [
      "['Data Year', 'Utility Number', 'Utility Name', 'State', 'Ownership']\n",
      "Data Year  Utility Number  Utility Name                    State  Ownership  \n",
      "2012       84              A & N Electric Coop             VA     Cooperative   100.00\n",
      "           97              Adams Electric Coop             IL     Cooperative     0.00\n",
      "           108             Adams-Columbia Electric Coop    WI     Cooperative     0.00\n",
      "           118             Adams Rural Electric Coop, Inc  OH     Cooperative     0.00\n",
      "           122             Village of Arcade               NY     Municipal       0.00\n",
      "Name: Savings, dtype: float64\n"
     ]
    }
   ],
   "source": [
    "efficiency = pd.concat([eff2012, eff2013])\n",
    "efficiency.name = 'Savings'\n",
    "\n",
    "print(efficiency.index.names)\n",
    "print(efficiency.head())"
   ]
  },
  {
   "cell_type": "markdown",
   "metadata": {},
   "source": [
    "Compute total savings for each year and state."
   ]
  },
  {
   "cell_type": "code",
   "execution_count": 21,
   "metadata": {
    "collapsed": false
   },
   "outputs": [
    {
     "name": "stdout",
     "output_type": "stream",
     "text": [
      "State  Ownership            \n",
      "AK     Cooperative             3655.00\n",
      "       Investor Owned             0.00\n",
      "       Municipal                   nan\n",
      "       Political Subdivision       nan\n",
      "AL     Cooperative             9907.00\n",
      "Name: Savings, dtype: float64\n"
     ]
    }
   ],
   "source": [
    "efficiency_agg = efficiency.groupby(level=['State', 'Ownership']).sum()\n",
    "\n",
    "print(efficiency_agg.head())"
   ]
  },
  {
   "cell_type": "markdown",
   "metadata": {},
   "source": [
    "Compute total capacity for each year and state. Convert MWs to MWh."
   ]
  },
  {
   "cell_type": "code",
   "execution_count": 22,
   "metadata": {
    "collapsed": false
   },
   "outputs": [
    {
     "name": "stdout",
     "output_type": "stream",
     "text": [
      "State\n",
      "AK    182520.00\n",
      "AL    182520.00\n",
      "AR     16920.00\n",
      "AZ    263880.00\n",
      "CA   3977280.00\n",
      "Name: Capacity, dtype: float64\n"
     ]
    }
   ],
   "source": [
    "distr_generation = distributed_generation.groupby(level='State').sum()\n",
    "distr_generation = distr_generation.loc[:, 'Total Capacity in MWs'] * 60**2\n",
    "distr_generation.name = 'Capacity'\n",
    "\n",
    "print(distr_generation.head())"
   ]
  },
  {
   "cell_type": "markdown",
   "metadata": {},
   "source": [
    "Merge two datasets."
   ]
  },
  {
   "cell_type": "code",
   "execution_count": 23,
   "metadata": {
    "collapsed": false
   },
   "outputs": [
    {
     "name": "stdout",
     "output_type": "stream",
     "text": [
      "                             Savings  Capacity\n",
      "State Ownership                               \n",
      "AK    Cooperative            3655.00 182520.00\n",
      "      Investor Owned            0.00 182520.00\n",
      "      Municipal                  nan 182520.00\n",
      "      Political Subdivision      nan 182520.00\n",
      "AL    Cooperative            9907.00 182520.00\n"
     ]
    }
   ],
   "source": [
    "norm_eff = pd.merge(pd.DataFrame(efficiency_agg).reset_index('Ownership'),\n",
    "                    pd.DataFrame(distr_generation), left_index=True, right_index=True)\n",
    "\n",
    "norm_eff.set_index('Ownership', append=True, inplace=True)\n",
    "\n",
    "print(norm_eff.head())"
   ]
  },
  {
   "cell_type": "markdown",
   "metadata": {},
   "source": [
    "Compute savings relative to capacity."
   ]
  },
  {
   "cell_type": "code",
   "execution_count": 24,
   "metadata": {
    "collapsed": false
   },
   "outputs": [
    {
     "name": "stdout",
     "output_type": "stream",
     "text": [
      "                             Savings  Capacity  Relative Savings\n",
      "State Ownership                                                 \n",
      "AK    Cooperative            3655.00 182520.00              0.02\n",
      "      Investor Owned            0.00 182520.00              0.00\n",
      "      Municipal                  nan 182520.00               nan\n",
      "      Political Subdivision      nan 182520.00               nan\n",
      "AL    Cooperative            9907.00 182520.00              0.05\n"
     ]
    }
   ],
   "source": [
    "norm_eff['Relative Savings'] = norm_eff.eval('Savings / Capacity')\n",
    "\n",
    "print(norm_eff.head())"
   ]
  },
  {
   "cell_type": "markdown",
   "metadata": {},
   "source": [
    "Compute average savings."
   ]
  },
  {
   "cell_type": "code",
   "execution_count": 25,
   "metadata": {
    "collapsed": false
   },
   "outputs": [
    {
     "name": "stdout",
     "output_type": "stream",
     "text": [
      "Ownership\n",
      "Retail Power Marketer        0.00\n",
      "Municipal Mktg Authority     0.17\n",
      "Cooperative                  0.24\n",
      "State                        0.52\n",
      "Municipal                    0.53\n",
      "Political Subdivision        2.33\n",
      "DSM Administrator            3.84\n",
      "Investor Owned               5.96\n",
      "Federal                    120.53\n",
      "Name: Relative Savings, dtype: float64\n"
     ]
    }
   ],
   "source": [
    "savings = norm_eff.groupby(level='Ownership')['Relative Savings'].mean().order()\n",
    "\n",
    "print(savings)"
   ]
  }
 ],
 "metadata": {
  "anaconda-cloud": {},
  "kernelspec": {
   "display_name": "Python [default]",
   "language": "python",
   "name": "python3"
  },
  "language_info": {
   "codemirror_mode": {
    "name": "ipython",
    "version": 3
   },
   "file_extension": ".py",
   "mimetype": "text/x-python",
   "name": "python",
   "nbconvert_exporter": "python",
   "pygments_lexer": "ipython3",
   "version": "3.5.2"
  }
 },
 "nbformat": 4,
 "nbformat_minor": 0
}
