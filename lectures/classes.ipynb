{
 "cells": [
  {
   "cell_type": "markdown",
   "metadata": {},
   "source": [
    "# Classes"
   ]
  },
  {
   "cell_type": "markdown",
   "metadata": {},
   "source": [
    "The very basic class definition:"
   ]
  },
  {
   "cell_type": "code",
   "execution_count": 1,
   "metadata": {
    "collapsed": true
   },
   "outputs": [],
   "source": [
    "class Student(object):\n",
    "    def __init__(self, name):\n",
    "        self.name = name\n",
    "    def set_age(self, age):\n",
    "        self.age = age\n",
    "    def set_major(self, major):\n",
    "        self.major = major"
   ]
  },
  {
   "cell_type": "markdown",
   "metadata": {},
   "source": [
    "In the previous example, the ``Student`` class has ``__init__``, ``set_age`` and ``set_major`` methods (functions that are attached to the class). Its attributes are name, age and major. We can call these methods and attributes with the following notation: ``classinstance.method`` or ``classinstance.attribute``. The ``__init__`` constructor is a special method we call with: ``MyClass(init parameters if any)``.\n",
    "\n",
    "Next we create an instance of a class ``Student`` with name \"Anna\" and store it in the variable called ``anna``."
   ]
  },
  {
   "cell_type": "code",
   "execution_count": 3,
   "metadata": {
    "collapsed": true
   },
   "outputs": [],
   "source": [
    "anna = Student('Anna')\n",
    "anna.set_age(21)\n",
    "anna.set_major('physics')"
   ]
  },
  {
   "cell_type": "code",
   "execution_count": 4,
   "metadata": {
    "collapsed": false
   },
   "outputs": [
    {
     "name": "stdout",
     "output_type": "stream",
     "text": [
      "<__main__.Student object at 0x7ff7c94287f0>\n"
     ]
    }
   ],
   "source": [
    "print(anna)"
   ]
  },
  {
   "cell_type": "code",
   "execution_count": null,
   "metadata": {
    "collapsed": true
   },
   "outputs": [],
   "source": [
    "print(anna.name, anna.age, anna.major)"
   ]
  }
 ],
 "metadata": {
  "kernelspec": {
   "display_name": "Python 3",
   "language": "python",
   "name": "python3"
  },
  "language_info": {
   "codemirror_mode": {
    "name": "ipython",
    "version": 3
   },
   "file_extension": ".py",
   "mimetype": "text/x-python",
   "name": "python",
   "nbconvert_exporter": "python",
   "pygments_lexer": "ipython3",
   "version": "3.4.3"
  }
 },
 "nbformat": 4,
 "nbformat_minor": 0
}
