{
 "cells": [
  {
   "cell_type": "markdown",
   "metadata": {},
   "source": [
    "# Classes"
   ]
  },
  {
   "cell_type": "markdown",
   "metadata": {},
   "source": [
    "The very basic class definition:"
   ]
  },
  {
   "cell_type": "code",
   "execution_count": 2,
   "metadata": {
    "collapsed": true
   },
   "outputs": [],
   "source": [
    "class Student(object):\n",
    "    def __init__(self, name):\n",
    "        self.name = name\n",
    "    def set_age(self, age):\n",
    "        self.age = age\n",
    "    def set_major(self, major):\n",
    "        self.major = major"
   ]
  },
  {
   "cell_type": "markdown",
   "metadata": {},
   "source": [
    "In the previous example, the ``Student`` class has ``__init__``, ``set_age`` and ``set_major`` methods (functions that are attached to the class). Its attributes are ``name``, ``age`` and ``major``. We can call these methods and attributes with the following notation: ``classinstance.method`` or ``classinstance.attribute``. The ``__init__`` constructor is a special method we call with: ``MyClass(init parameters if any)``.\n",
    "\n",
    "Note that each method takes a special ``self`` argument in the first place. This is the reference to the class itself without using its not yet announced name.\n",
    "\n",
    "Next we create an instance of a class ``Student`` with name \"Anna\" and store it in the variable called ``anna``."
   ]
  },
  {
   "cell_type": "code",
   "execution_count": 3,
   "metadata": {
    "collapsed": true
   },
   "outputs": [],
   "source": [
    "anna = Student('Anna')\n",
    "anna.set_age(21)\n",
    "anna.set_major('physics')"
   ]
  },
  {
   "cell_type": "markdown",
   "metadata": {},
   "source": [
    "First thing to do to understand what we are dealing with is try to print it and find out its type."
   ]
  },
  {
   "cell_type": "code",
   "execution_count": 4,
   "metadata": {
    "collapsed": false
   },
   "outputs": [
    {
     "name": "stdout",
     "output_type": "stream",
     "text": [
      "<__main__.Student object at 0x7f790c2d3c50>\n",
      "<class '__main__.Student'>\n"
     ]
    }
   ],
   "source": [
    "print(anna)\n",
    "print(type(anna))"
   ]
  },
  {
   "cell_type": "markdown",
   "metadata": {},
   "source": [
    "Next we can check all the attributes of this particular student."
   ]
  },
  {
   "cell_type": "code",
   "execution_count": 9,
   "metadata": {
    "collapsed": false
   },
   "outputs": [
    {
     "name": "stdout",
     "output_type": "stream",
     "text": [
      "Anna, 21, physics\n"
     ]
    }
   ],
   "source": [
    "print(anna.name, anna.age, anna.major, sep=', ')"
   ]
  },
  {
   "cell_type": "markdown",
   "metadata": {},
   "source": [
    "Similarly, we can create another instance of the same class and explore its attributes."
   ]
  },
  {
   "cell_type": "code",
   "execution_count": 10,
   "metadata": {
    "collapsed": false
   },
   "outputs": [
    {
     "name": "stdout",
     "output_type": "stream",
     "text": [
      "Ivan, 23, economics\n"
     ]
    }
   ],
   "source": [
    "ivan = Student('Ivan')\n",
    "ivan.set_age(23)\n",
    "ivan.set_major('economics')\n",
    "\n",
    "print(ivan.name, ivan.age, ivan.major, sep=', ')"
   ]
  },
  {
   "cell_type": "markdown",
   "metadata": {},
   "source": [
    "Now, let's add some dynamics to the class. For example, we want to store courses and corresponding grades inside of the ``Student`` class instance. To that end we need to modify the class definition as follows:"
   ]
  },
  {
   "cell_type": "code",
   "execution_count": 14,
   "metadata": {
    "collapsed": true
   },
   "outputs": [],
   "source": [
    "class Student(object):\n",
    "    \n",
    "    def __init__(self, name):\n",
    "        self.name = name\n",
    "        self.age = None\n",
    "        self.major = None\n",
    "        self.transcript = []\n",
    "    \n",
    "    def set_age(self, age):\n",
    "        self.age = age\n",
    "    \n",
    "    def set_major(self, major):\n",
    "        self.major = major\n",
    "    \n",
    "    def add_grade(self, course, grade):\n",
    "        self.transcript.append((course, grade))\n",
    "    \n",
    "    def add_grades(self, grades):\n",
    "        self.transcript.extend(grades)\n",
    "    \n",
    "    def show_transcript(self):\n",
    "        print('Student: %s' % self.name)\n",
    "        print('Age: %s' % self.age)\n",
    "        print('Major: %s' % self.major)\n",
    "        print('Course grades:')\n",
    "        for record in self.transcript:\n",
    "            print('%s - %s' % record)"
   ]
  },
  {
   "cell_type": "markdown",
   "metadata": {},
   "source": [
    "In the above example we added a few new methods. Method ``add_grade`` appends a tuple of course name and corresponding grade to the list called ``transcript``. Method ``add_grades`` does the same but in case we want to add several courses at a time. Finally, ``show_transcript`` prints a nice textual report about a student. Notice that the last method does not tak any arguments besides the class reference itself. In fact it does not need any since all the data is already stored in the object."
   ]
  },
  {
   "cell_type": "code",
   "execution_count": 15,
   "metadata": {
    "collapsed": false
   },
   "outputs": [
    {
     "name": "stdout",
     "output_type": "stream",
     "text": [
      "Student: Anna\n",
      "Age: 21\n",
      "Major: physics\n",
      "Course grades:\n",
      "statistics - 4.7\n",
      "game theory - 5.3\n",
      "econometrics - 3.7\n",
      "macroeconomics - 4\n"
     ]
    }
   ],
   "source": [
    "anna = Student('Anna')\n",
    "anna.set_age(21)\n",
    "anna.set_major('physics')\n",
    "anna.add_grade('statistics', 4.7)\n",
    "anna.add_grade('game theory', 5.3)\n",
    "anna.add_grades([('econometrics', 3.7), ('macroeconomics', 4)])\n",
    "anna.show_transcript()"
   ]
  },
  {
   "cell_type": "markdown",
   "metadata": {},
   "source": [
    "Besides default ``__init__`` method, we should frequently use ``__repr__`` which is an unambiguous string representation of a class instance. We can reimplement our ``Student`` class as follows."
   ]
  },
  {
   "cell_type": "code",
   "execution_count": 25,
   "metadata": {
    "collapsed": false
   },
   "outputs": [],
   "source": [
    "class Student(object):\n",
    "    \n",
    "    def __init__(self, name):\n",
    "        self.name = name\n",
    "        self.age = None\n",
    "        self.major = None\n",
    "        self.transcript = []\n",
    "    \n",
    "    def set_age(self, age):\n",
    "        self.age = age\n",
    "    \n",
    "    def set_major(self, major):\n",
    "        self.major = major\n",
    "    \n",
    "    def add_grade(self, course, grade):\n",
    "        self.transcript.append((course, grade))\n",
    "    \n",
    "    def add_grades(self, grades):\n",
    "        self.transcript.extend(grades)\n",
    "    \n",
    "    def __repr__(self):\n",
    "        transcript = 'Student: %s\\n' % self.name\n",
    "        transcript += 'Age: %s\\n' % self.age\n",
    "        transcript += 'Major: %s\\n' % self.major\n",
    "        transcript += 'Course grades:\\n'\n",
    "        for record in self.transcript:\n",
    "            transcript += '%s - %s\\n' % record\n",
    "        return transcript"
   ]
  },
  {
   "cell_type": "code",
   "execution_count": 27,
   "metadata": {
    "collapsed": false
   },
   "outputs": [
    {
     "name": "stdout",
     "output_type": "stream",
     "text": [
      "Student: Anna\n",
      "Age: 21\n",
      "Major: physics\n",
      "Course grades:\n",
      "statistics - 4.7\n",
      "game theory - 5.3\n",
      "econometrics - 3.7\n",
      "macroeconomics - 4\n",
      "\n"
     ]
    }
   ],
   "source": [
    "anna = Student('Anna')\n",
    "anna.set_age(21)\n",
    "anna.set_major('physics')\n",
    "anna.add_grade('statistics', 4.7)\n",
    "anna.add_grade('game theory', 5.3)\n",
    "anna.add_grades([('econometrics', 3.7), ('macroeconomics', 4)])\n",
    "\n",
    "print(anna)"
   ]
  },
  {
   "cell_type": "markdown",
   "metadata": {},
   "source": [
    "Next useful addition to the class is GPA calculation."
   ]
  },
  {
   "cell_type": "code",
   "execution_count": 39,
   "metadata": {
    "collapsed": true
   },
   "outputs": [],
   "source": [
    "def calculate_gpa(obj):\n",
    "    gpa = 0\n",
    "    for record in obj.transcript:\n",
    "        gpa += record[1] / len(obj.transcript)\n",
    "    return 'GPA = %s' % gpa\n",
    "    \n",
    "Student.calculate_gpa = calculate_gpa"
   ]
  },
  {
   "cell_type": "markdown",
   "metadata": {},
   "source": [
    "Here we defined class method outside of its definition.\n",
    "Now let's see the result."
   ]
  },
  {
   "cell_type": "code",
   "execution_count": 38,
   "metadata": {
    "collapsed": false
   },
   "outputs": [
    {
     "name": "stdout",
     "output_type": "stream",
     "text": [
      "GPA = 4.425\n"
     ]
    }
   ],
   "source": [
    "anna = Student('Anna')\n",
    "anna.set_age(21)\n",
    "anna.set_major('physics')\n",
    "anna.add_grade('statistics', 4.7)\n",
    "anna.add_grade('game theory', 5.3)\n",
    "anna.add_grades([('econometrics', 3.7), ('macroeconomics', 4)])\n",
    "\n",
    "print(anna.calculate_gpa())"
   ]
  }
 ],
 "metadata": {
  "kernelspec": {
   "display_name": "Python 3",
   "language": "python",
   "name": "python3"
  },
  "language_info": {
   "codemirror_mode": {
    "name": "ipython",
    "version": 3
   },
   "file_extension": ".py",
   "mimetype": "text/x-python",
   "name": "python",
   "nbconvert_exporter": "python",
   "pygments_lexer": "ipython3",
   "version": "3.4.3"
  }
 },
 "nbformat": 4,
 "nbformat_minor": 0
}
