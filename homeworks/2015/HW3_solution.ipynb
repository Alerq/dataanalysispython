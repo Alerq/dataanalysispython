{
 "cells": [
  {
   "cell_type": "markdown",
   "metadata": {},
   "source": [
    "# Homework 3. Solution key"
   ]
  },
  {
   "cell_type": "code",
   "execution_count": 1,
   "metadata": {
    "collapsed": true
   },
   "outputs": [],
   "source": [
    "import numpy as np"
   ]
  },
  {
   "cell_type": "markdown",
   "metadata": {},
   "source": [
    "## Q1\n",
    "Consider the polynomial\n",
    "\\begin{equation}\n",
    "p\\left(x\\right)=a_{0}+a_{1}x+a_{2}x^{2}+\\ldots+a_{n}x^{n}=\\sum_{i=0}^{n}a_{i}x^{i}.\n",
    "\\end{equation}\n",
    "\n",
    "Write three versions of the function ``poly(x, coef)`` that computes the value of the polynomial above given a point $x$ and a list of coefficients $\\left[a_{0},\\ldots,a_{n}\\right]$."
   ]
  },
  {
   "cell_type": "code",
   "execution_count": 2,
   "metadata": {
    "collapsed": true
   },
   "outputs": [],
   "source": [
    "x, coef = .1, np.random.rand(10000)"
   ]
  },
  {
   "cell_type": "markdown",
   "metadata": {},
   "source": [
    "Use loops with ``enumerate()`` function."
   ]
  },
  {
   "cell_type": "code",
   "execution_count": 3,
   "metadata": {
    "collapsed": false
   },
   "outputs": [
    {
     "name": "stdout",
     "output_type": "stream",
     "text": [
      "0.127020378673\n",
      "100 loops, best of 3: 6.88 ms per loop\n"
     ]
    }
   ],
   "source": [
    "def poly(x, coef):\n",
    "    out = 0\n",
    "    for i, ai in enumerate(coef):\n",
    "        out += ai * x**i\n",
    "    return out\n",
    "\n",
    "print(poly(x, coef))\n",
    "%timeit poly(x, coef)"
   ]
  },
  {
   "cell_type": "markdown",
   "metadata": {},
   "source": [
    "Vectorize the code with the help of ``np.cumsum()``."
   ]
  },
  {
   "cell_type": "code",
   "execution_count": 4,
   "metadata": {
    "collapsed": false
   },
   "outputs": [
    {
     "name": "stdout",
     "output_type": "stream",
     "text": [
      "0.127020378673\n",
      "100 loops, best of 3: 2.74 ms per loop\n"
     ]
    }
   ],
   "source": [
    "def poly(x, coef):\n",
    "    return np.cumsum(coef * x**np.arange(len(coef)))[-1]\n",
    "\n",
    "print(poly(x, coef))\n",
    "%timeit poly(x, coef)"
   ]
  },
  {
   "cell_type": "markdown",
   "metadata": {},
   "source": [
    "Use ``np.poly1d()``."
   ]
  },
  {
   "cell_type": "code",
   "execution_count": 5,
   "metadata": {
    "collapsed": false
   },
   "outputs": [
    {
     "name": "stdout",
     "output_type": "stream",
     "text": [
      "0.127020378673\n",
      "100 loops, best of 3: 17.8 ms per loop\n"
     ]
    }
   ],
   "source": [
    "def poly(x, coef):\n",
    "    return np.poly1d(coef[::-1])(x)\n",
    "\n",
    "print(poly(x, coef))\n",
    "%timeit poly(x, coef)"
   ]
  },
  {
   "cell_type": "markdown",
   "metadata": {},
   "source": [
    "## Q2\n",
    "\n",
    "Let ``probs`` be a NumPy array of length $n$ with ``probs.sum()`` equal to 1, so that they can be interpreted as probabilities. We wish to generate a discrete random variable $X$ such that $P\\left[X=i\\right]=p_{i}$. The standard algorithm is as follows:\n",
    "\n",
    "- Divide the unit interval $\\left[0,1\\right]$ into $n$ subintervals $I_{0},I_{1},\\ldots,I_{n-1}$ such that the length of $I_{i}$ is $p_{i}$.\n",
    "\n",
    "- Draw a uniform random variable $U$ on $\\left[0,1\\right]$ and return the $i$ such that $U\\in I_{i}$.\n",
    "\n",
    "The probability of drawing $i$ is the length of $I_{i}$, which is equal to $p_{i}$. The algorithm can be implemented as follows:"
   ]
  },
  {
   "cell_type": "code",
   "execution_count": 6,
   "metadata": {
    "collapsed": false
   },
   "outputs": [
    {
     "name": "stdout",
     "output_type": "stream",
     "text": [
      "[1 2 0 2 1 2 2 2 2 0]\n",
      "1000 loops, best of 3: 1.78 ms per loop\n"
     ]
    }
   ],
   "source": [
    "from random import uniform\n",
    "\n",
    "def sample(probs):\n",
    "    a = 0.0\n",
    "    unif = uniform(0, 1)\n",
    "    for i in range(len(probs)):\n",
    "        if a < unif <= a + probs[i]:\n",
    "            return i\n",
    "        a += probs[i]\n",
    "\n",
    "def draw(probs, size=1):\n",
    "    return np.array([sample(probs) for _ in range(size)])\n",
    "\n",
    "probs = [.1, .2, .7]\n",
    "out = draw(probs, size=10)\n",
    "\n",
    "print(out)\n",
    "\n",
    "%timeit draw(probs, size=1000)"
   ]
  },
  {
   "cell_type": "markdown",
   "metadata": {},
   "source": [
    "Vectorize this code with the help of ``np.searchsorted`` and ``np.cumsum``."
   ]
  },
  {
   "cell_type": "code",
   "execution_count": 7,
   "metadata": {
    "collapsed": false
   },
   "outputs": [
    {
     "name": "stdout",
     "output_type": "stream",
     "text": [
      "[2 1 2 2 2 2 0 1 2 2]\n",
      "10000 loops, best of 3: 46.7 µs per loop\n"
     ]
    }
   ],
   "source": [
    "class DiscreteRV(object):\n",
    "    \n",
    "    \"\"\"Discrete random variable.\n",
    "    \n",
    "    Attributes\n",
    "    ----------\n",
    "    probs\n",
    "        Probability distribution\n",
    "        \n",
    "    Methods\n",
    "    -------\n",
    "    draw\n",
    "        Random number generator\n",
    "        \n",
    "    Examples\n",
    "    --------\n",
    "    >>> rv = DiscreteRV(probs)\n",
    "    >>> out = rv.draw(10)\n",
    "    >>> print(out)\n",
    "    \n",
    "    \"\"\"\n",
    "    def __init__(self, probs):\n",
    "        \"\"\"Initialize the instance.\n",
    "        \n",
    "        Parameters\n",
    "        ----------\n",
    "        probs : array-like\n",
    "            Probability distribution\n",
    "            \n",
    "        \"\"\"\n",
    "        self.probs = probs\n",
    "        \n",
    "    def draw(self, size=1):\n",
    "        \"\"\"Draw random sample.\n",
    "        \n",
    "        Parameters\n",
    "        ----------\n",
    "        size : int\n",
    "            Size of the sample\n",
    "        \n",
    "        Returns\n",
    "        -------\n",
    "        array\n",
    "            Random sample\n",
    "            \n",
    "        \"\"\"\n",
    "        cumprob = np.cumsum(np.cumsum(self.probs))\n",
    "        return cumprob.searchsorted(np.random.uniform(0, 1, size=size)) \n",
    "\n",
    "\n",
    "rv = DiscreteRV(probs)\n",
    "out = rv.draw(10)\n",
    "print(out)\n",
    "\n",
    "%timeit rv.draw(1000)"
   ]
  }
 ],
 "metadata": {
  "kernelspec": {
   "display_name": "Python 3",
   "language": "python",
   "name": "python3"
  },
  "language_info": {
   "codemirror_mode": {
    "name": "ipython",
    "version": 3
   },
   "file_extension": ".py",
   "mimetype": "text/x-python",
   "name": "python",
   "nbconvert_exporter": "python",
   "pygments_lexer": "ipython3",
   "version": "3.4.3"
  }
 },
 "nbformat": 4,
 "nbformat_minor": 0
}
