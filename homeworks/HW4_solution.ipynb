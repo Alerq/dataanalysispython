{
 "cells": [
  {
   "cell_type": "markdown",
   "metadata": {},
   "source": [
    "# Homework 4. Solution key"
   ]
  },
  {
   "cell_type": "code",
   "execution_count": 1,
   "metadata": {
    "collapsed": true
   },
   "outputs": [],
   "source": [
    "import numpy as np\n",
    "import pandas as pd\n",
    "from pandas.io import wb\n",
    "\n",
    "pd.set_option('float_format', '{:6.2f}'.format)"
   ]
  },
  {
   "cell_type": "code",
   "execution_count": 2,
   "metadata": {
    "collapsed": false,
    "scrolled": false
   },
   "outputs": [
    {
     "name": "stdout",
     "output_type": "stream",
     "text": [
      "(25, 2)\n",
      "                     id                                               name\n",
      "52          2.0.cov.Int                                Coverage: Internet \n",
      "77          2.0.hoi.Int                                     HOI: Internet \n",
      "5621        IT.NET.BNDW            International Internet bandwidth (Mbps)\n",
      "5622     IT.NET.BNDW.PC  International Internet bandwidth (bits per per...\n",
      "5623     IT.NET.CONN.CD  Fixed broadband Internet connection charge (cu...\n",
      "5624     IT.NET.CONN.CN  Fixed broadband Internet connection charge (cu...\n",
      "5625        IT.NET.SECR                            Secure Internet servers\n",
      "5626     IT.NET.SECR.P6     Secure Internet servers (per 1 million people)\n",
      "5627      IT.NET.SUB.CD  Fixed broadband Internet monthly subscription ...\n",
      "5628      IT.NET.SUB.CN  Fixed broadband Internet monthly subscription ...\n",
      "5629        IT.NET.USER                                     Internet users\n",
      "5630  IT.NET.USER.FE.ZS                         Internet users, female (%)\n",
      "5631  IT.NET.USER.MA.ZS                           Internet users, male (%)\n",
      "5632     IT.NET.USER.P2                    Internet users (per 100 people)\n",
      "5633     IT.NET.USER.P3                  Internet users (per 1,000 people)\n",
      "9595          WP14910.1  Used the Internet to pay bills or buy things (...\n",
      "9596         WP14910.10  Used the Internet to pay bills or buy things, ...\n",
      "9597          WP14910.2  Used the Internet to pay bills or buy things, ...\n",
      "9598          WP14910.3  Used the Internet to pay bills or buy things, ...\n",
      "9599          WP14910.4  Used the Internet to pay bills or buy things, ...\n",
      "9600          WP14910.5  Used the Internet to pay bills or buy things, ...\n",
      "9601          WP14910.6  Used the Internet to pay bills or buy things, ...\n",
      "9602          WP14910.7  Used the Internet to pay bills or buy things, ...\n",
      "9603          WP14910.8  Used the Internet to pay bills or buy things, ...\n",
      "9604          WP14910.9  Used the Internet to pay bills or buy things, ...\n"
     ]
    }
   ],
   "source": [
    "df = wb.search('internet').iloc[:, :2]\n",
    "print(df.shape)\n",
    "print(df)"
   ]
  },
  {
   "cell_type": "markdown",
   "metadata": {},
   "source": [
    "# Q1\n",
    "\n",
    "Download the following data from the World Bank \"World Development Indicators\" repository (http://databank.worldbank.org/data/home.aspx):\n",
    "\n",
    "- inflation ('FP.CPI.TOTL.ZG')\n",
    "- GDP per capita ('NY.GDP.PCAP.CD')\n",
    "- Internet users ('IT.NET.USER.P2')\n",
    "\n",
    "Use Pandas remote data access module (http://pandas.pydata.org/pandas-docs/version/0.16.2/remote_data.html#remote-data-wb)."
   ]
  },
  {
   "cell_type": "code",
   "execution_count": 3,
   "metadata": {
    "collapsed": false
   },
   "outputs": [],
   "source": [
    "ind = {'FP.CPI.TOTL.ZG': 'Inflation',\n",
    "       'NY.GDP.PCAP.CD': 'GDP per capita',\n",
    "       'IT.NET.USER.P2': 'Internet users'}\n",
    "\n",
    "downloaded = wb.download(indicator=ind.keys(), country='all', start=2000, end=2014)\n",
    "\n",
    "print(downloaded.head())"
   ]
  },
  {
   "cell_type": "markdown",
   "metadata": {},
   "source": [
    "- Print the shape of the dataset (number of rows and columns).\n",
    "- Print the first three and last three rows in the dataset.\n",
    "- Print basic descriptive statistics."
   ]
  },
  {
   "cell_type": "code",
   "execution_count": 4,
   "metadata": {
    "collapsed": false
   },
   "outputs": [
    {
     "name": "stdout",
     "output_type": "stream",
     "text": [
      "(3735, 3)\n",
      "                 FP.CPI.TOTL.ZG  IT.NET.USER.P2  NY.GDP.PCAP.CD\n",
      "country    year                                                \n",
      "Arab World 2014            2.79           34.52         7412.52\n",
      "           2013            3.16           32.34         7540.46\n",
      "           2012            4.25           29.95         7442.14\n",
      "               FP.CPI.TOTL.ZG  IT.NET.USER.P2  NY.GDP.PCAP.CD\n",
      "country  year                                                \n",
      "Zimbabwe 2002             nan            3.99          499.72\n",
      "         2001             nan            0.80          537.72\n",
      "         2000             nan            0.40          535.20\n",
      "       FP.CPI.TOTL.ZG  IT.NET.USER.P2  NY.GDP.PCAP.CD\n",
      "count         3102.00         3480.00         3422.00\n",
      "mean             6.17           26.31        12279.80\n",
      "std             15.00           26.38        19444.36\n",
      "min            -18.11            0.00          106.02\n",
      "25%              2.17            3.77         1151.95\n",
      "50%              3.99           16.16         4016.69\n",
      "75%              7.10           44.14        14390.29\n",
      "max            513.91           98.16       193648.13\n"
     ]
    }
   ],
   "source": [
    "print(downloaded.shape)\n",
    "print(downloaded.head(3))\n",
    "print(downloaded.tail(3))\n",
    "print(downloaded.describe())"
   ]
  },
  {
   "cell_type": "markdown",
   "metadata": {},
   "source": [
    "- Rename columns to give them some meaningful names. Print first five rows of the dataset."
   ]
  },
  {
   "cell_type": "code",
   "execution_count": 5,
   "metadata": {
    "collapsed": false
   },
   "outputs": [
    {
     "name": "stdout",
     "output_type": "stream",
     "text": [
      "                 Inflation  Internet users  GDP per capita\n",
      "country    year                                           \n",
      "Arab World 2014       2.79           34.52         7412.52\n",
      "           2013       3.16           32.34         7540.46\n",
      "           2012       4.25           29.95         7442.14\n",
      "           2011       4.64           26.53         6900.38\n",
      "           2010       3.95           24.54         5949.41\n"
     ]
    }
   ],
   "source": [
    "data = downloaded.copy()\n",
    "data.rename(columns=ind, inplace=True)\n",
    "\n",
    "print(data.head())"
   ]
  },
  {
   "cell_type": "markdown",
   "metadata": {},
   "source": [
    "Note that the index level 'year' is a `string`.\n",
    "\n",
    "- Convert it to `DatetimeIntex` and name it 'date'. Show the first three values."
   ]
  },
  {
   "cell_type": "code",
   "execution_count": 6,
   "metadata": {
    "collapsed": false
   },
   "outputs": [
    {
     "name": "stdout",
     "output_type": "stream",
     "text": [
      "                        Inflation  Internet users  GDP per capita\n",
      "country     date                                                 \n",
      "Afghanistan 2000-01-01        nan             nan             nan\n",
      "            2001-01-01        nan            0.00          119.90\n",
      "            2002-01-01        nan            0.00          192.15\n",
      "            2003-01-01        nan            0.09          203.65\n",
      "            2004-01-01        nan            0.11          224.91\n",
      "DatetimeIndex(['2000-01-01', '2001-01-01', '2002-01-01'], dtype='datetime64[ns]', name='date', freq=None, tz=None)\n"
     ]
    }
   ],
   "source": [
    "data['date'] = pd.to_datetime(data.index.get_level_values('year'), infer_datetime_format=True)\n",
    "data.set_index('date', append=True, inplace=True)\n",
    "data.reset_index('year', inplace=True, drop=True)\n",
    "data.sort_index(inplace=True)\n",
    "\n",
    "print(data.head())\n",
    "print(data.index.get_level_values('date')[:3])"
   ]
  },
  {
   "cell_type": "markdown",
   "metadata": {},
   "source": [
    "- Compute average inflation and GDP per capita over time for each country. Drop missing values. Sort index by inflation. Print the first five rows."
   ]
  },
  {
   "cell_type": "code",
   "execution_count": 7,
   "metadata": {
    "collapsed": false
   },
   "outputs": [
    {
     "name": "stdout",
     "output_type": "stream",
     "text": [
      "                      Inflation  GDP per capita\n",
      "country                                        \n",
      "Japan                     -0.03        37538.90\n",
      "Brunei Darussalam          0.63        29596.88\n",
      "Switzerland                0.64        61883.90\n",
      "Hong Kong SAR, China       1.26        30344.85\n",
      "Sweden                     1.31        46526.94\n"
     ]
    }
   ],
   "source": [
    "aggregated = data.groupby(level=['country']).mean()[['Inflation', 'GDP per capita']].dropna()\n",
    "aggregated.sort_index(by='Inflation', inplace=True)\n",
    "\n",
    "print(aggregated.head())"
   ]
  },
  {
   "cell_type": "markdown",
   "metadata": {},
   "source": [
    "- Create a `DataFrame` which contains only five highest and five lowest inflation values and country index. Print it."
   ]
  },
  {
   "cell_type": "code",
   "execution_count": 8,
   "metadata": {
    "collapsed": false
   },
   "outputs": [
    {
     "name": "stdout",
     "output_type": "stream",
     "text": [
      "                      Inflation\n",
      "country                        \n",
      "Japan                     -0.03\n",
      "Brunei Darussalam          0.63\n",
      "Switzerland                0.64\n",
      "Hong Kong SAR, China       1.26\n",
      "Sweden                     1.31\n",
      "Serbia                    19.71\n",
      "Venezuela, RB             34.21\n",
      "Belarus                   35.27\n",
      "Angola                    57.15\n",
      "Congo, Dem. Rep.          73.39\n"
     ]
    }
   ],
   "source": [
    "table = pd.concat([aggregated.head(5), aggregated.tail(5)])[['Inflation']]\n",
    "\n",
    "print(table)"
   ]
  },
  {
   "cell_type": "markdown",
   "metadata": {},
   "source": [
    "- Categorize countries into 'high', 'medium', and 'low' groups according to the average value of 'GDP per capita'.\n",
    "- Compute the average inflation for each group. Print the result."
   ]
  },
  {
   "cell_type": "code",
   "execution_count": 9,
   "metadata": {
    "collapsed": false
   },
   "outputs": [
    {
     "name": "stdout",
     "output_type": "stream",
     "text": [
      "           Inflation\n",
      "GDP group           \n",
      "low             8.60\n",
      "medium          6.65\n",
      "high            3.61\n"
     ]
    }
   ],
   "source": [
    "labels = ['low', 'medium', 'high']\n",
    "aggregated['GDP group'] = pd.qcut(aggregated['GDP per capita'], 3, labels=labels)\n",
    "table = aggregated.groupby('GDP group')[['Inflation']].mean()\n",
    "\n",
    "print(table)"
   ]
  },
  {
   "cell_type": "markdown",
   "metadata": {},
   "source": [
    "- Create a `DataFrame` with\n",
    "    - two-level index, 'GDP group' and 'country',\n",
    "    - two columns, 'Inflation' and 'GDP per capita'.\n",
    "- Leave only two smallest and two largest values of inflation values in each 'GDP group'. Print the result."
   ]
  },
  {
   "cell_type": "code",
   "execution_count": 10,
   "metadata": {
    "collapsed": false
   },
   "outputs": [
    {
     "name": "stdout",
     "output_type": "stream",
     "text": [
      "                             Inflation  GDP per capita\n",
      "GDP group country                                     \n",
      "low       Senegal                 1.69          845.85\n",
      "          Zimbabwe                2.15          583.54\n",
      "          Guinea                 18.56          402.39\n",
      "          Congo, Dem. Rep.       73.39          287.66\n",
      "medium    Morocco                 1.63         2283.89\n",
      "          Dominica                1.85         6088.47\n",
      "          Belarus                35.27         4404.44\n",
      "          Angola                 57.15         2885.26\n",
      "high      Japan                  -0.03        37538.90\n",
      "          Brunei Darussalam       0.63        29596.88\n",
      "          Turkey                 18.37         7819.24\n",
      "          Venezuela, RB          34.21         8675.05\n"
     ]
    }
   ],
   "source": [
    "table = aggregated.groupby('GDP group').apply(lambda x: pd.concat([x.head(2), x.tail(2)]))\n",
    "table.drop('GDP group', axis=1, inplace=True)\n",
    "\n",
    "print(table)"
   ]
  },
  {
   "cell_type": "markdown",
   "metadata": {},
   "source": [
    "- Compute log percentage growth rate of GDP per capita. Print first five rows."
   ]
  },
  {
   "cell_type": "code",
   "execution_count": 11,
   "metadata": {
    "collapsed": false
   },
   "outputs": [
    {
     "name": "stdout",
     "output_type": "stream",
     "text": [
      "                        Inflation  Internet users  GDP per capita  GDP growth\n",
      "country     date                                                             \n",
      "Afghanistan 2000-01-01        nan             nan             nan         nan\n",
      "            2001-01-01        nan            0.00          119.90         nan\n",
      "            2002-01-01        nan            0.00          192.15       47.16\n",
      "            2003-01-01        nan            0.09          203.65        5.81\n",
      "            2004-01-01        nan            0.11          224.91        9.93\n"
     ]
    }
   ],
   "source": [
    "table = data.copy()\n",
    "\n",
    "def growth(series):\n",
    "    return 100 * (np.log(series) - np.log(series.shift()))\n",
    "\n",
    "table['GDP growth'] = table.groupby(level='country')['GDP per capita'].apply(growth)\n",
    "\n",
    "print(table.head())"
   ]
  },
  {
   "cell_type": "markdown",
   "metadata": {},
   "source": [
    "- Compute averages of all indicators over time for each country. Print first five rows."
   ]
  },
  {
   "cell_type": "code",
   "execution_count": 12,
   "metadata": {
    "collapsed": false
   },
   "outputs": [
    {
     "name": "stdout",
     "output_type": "stream",
     "text": [
      "                Inflation  Internet users  GDP per capita  GDP growth\n",
      "country                                                              \n",
      "Afghanistan          8.13            2.68          407.55       13.11\n",
      "Albania              2.64           24.40         3206.71        9.67\n",
      "Algeria              3.71            8.66         3707.43        8.15\n",
      "American Samoa        nan             nan             nan         nan\n",
      "Andorra               nan           57.61        37094.66        5.32\n"
     ]
    }
   ],
   "source": [
    "table = table.groupby(level='country').mean()\n",
    "\n",
    "print(table.head())"
   ]
  },
  {
   "cell_type": "markdown",
   "metadata": {},
   "source": [
    "- Categorize countries into 'high', 'medium', and 'low' groups according to the average value of 'Internet users' and 'Inflation' (separately).\n",
    "- Compute the average GDP growth for each group.\n",
    "- Print the result as a 3x3 table with inflation gropus in rows and internet groups in columns."
   ]
  },
  {
   "cell_type": "code",
   "execution_count": 13,
   "metadata": {
    "collapsed": false
   },
   "outputs": [
    {
     "name": "stdout",
     "output_type": "stream",
     "text": [
      "Internet users group    low  medium   high\n",
      "Inflation group                           \n",
      "low                    5.72    6.87   5.07\n",
      "medium                 7.48    7.96   7.29\n",
      "high                   7.48    9.32   8.34\n"
     ]
    }
   ],
   "source": [
    "labels = ['low', 'medium', 'high']\n",
    "table['Internet users group'] = pd.qcut(table['Internet users'], 3, labels=labels)\n",
    "table['Inflation group'] = pd.qcut(table['Inflation'], 3, labels=labels)\n",
    "\n",
    "table = table.groupby(['Internet users group', 'Inflation group'])['GDP growth'].mean()\n",
    "table = table.unstack('Internet users group')\n",
    "\n",
    "print(table)"
   ]
  }
 ],
 "metadata": {
  "kernelspec": {
   "display_name": "Python 3",
   "language": "python",
   "name": "python3"
  },
  "language_info": {
   "codemirror_mode": {
    "name": "ipython",
    "version": 3
   },
   "file_extension": ".py",
   "mimetype": "text/x-python",
   "name": "python",
   "nbconvert_exporter": "python",
   "pygments_lexer": "ipython3",
   "version": "3.4.4"
  }
 },
 "nbformat": 4,
 "nbformat_minor": 0
}
