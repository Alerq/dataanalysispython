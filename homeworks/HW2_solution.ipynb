{
 "cells": [
  {
   "cell_type": "markdown",
   "metadata": {},
   "source": [
    "# Homework 2. Solution key"
   ]
  },
  {
   "cell_type": "markdown",
   "metadata": {},
   "source": [
    "## Q1\n",
    "\n",
    "Find all the numbers divisible by 7 but not multiples of 5, between 100 and 220, both included. The function should return a single line string of coma-separated numbers."
   ]
  },
  {
   "cell_type": "code",
   "execution_count": 1,
   "metadata": {
    "collapsed": false
   },
   "outputs": [
    {
     "name": "stdout",
     "output_type": "stream",
     "text": [
      "112,119,126,133,147,154,161,168,182,189,196,203,217\n"
     ]
    }
   ],
   "source": [
    "def find_numbers():\n",
    "    l = []\n",
    "    for i in range(100, 221):\n",
    "        if (i%7==0) and (i%5!=0):\n",
    "            l.append(str(i))\n",
    "    return ','.join(l)\n",
    "\n",
    "print(find_numbers())"
   ]
  },
  {
   "cell_type": "markdown",
   "metadata": {},
   "source": [
    "## Q2\n",
    "\n",
    "Write a function that takes a string as an input and returns a string with the same words but in reverse order."
   ]
  },
  {
   "cell_type": "code",
   "execution_count": 2,
   "metadata": {
    "collapsed": false
   },
   "outputs": [
    {
     "name": "stdout",
     "output_type": "stream",
     "text": [
      "order word Reverse\n"
     ]
    }
   ],
   "source": [
    "def reverse_word(line):\n",
    "    return ' '.join(line.split()[::-1])\n",
    "\n",
    "print(reverse_word('Reverse word order'))"
   ]
  },
  {
   "cell_type": "markdown",
   "metadata": {},
   "source": [
    "## Q3\n",
    "\n",
    "Write a function that would take two lists as inputs and returns a list of unique common elements in both lists. Write two versions: with and without using sets."
   ]
  },
  {
   "cell_type": "code",
   "execution_count": 3,
   "metadata": {
    "collapsed": false
   },
   "outputs": [
    {
     "name": "stdout",
     "output_type": "stream",
     "text": [
      "[1, 2, 3, 5, 8, 13]\n"
     ]
    }
   ],
   "source": [
    "a = [1, 1, 2, 3, 5, 8, 13, 21, 34, 55, 89]\n",
    "b = [1, 2, 3, 4, 5, 6, 7, 8, 9, 10, 11, 12, 13]\n",
    "\n",
    "def find_intersection(list1, list2):\n",
    "    inter = []\n",
    "    for elem in list1:\n",
    "        if elem in inter:\n",
    "            None\n",
    "        elif elem in list2:\n",
    "            inter.append(elem)\n",
    "    return inter\n",
    "\n",
    "print(find_intersection(a, b))"
   ]
  },
  {
   "cell_type": "markdown",
   "metadata": {},
   "source": [
    "## Q4\n",
    "\n",
    "Write a password generator function. By default the function should return the string of length 6, should contain lower and upper case letters, numbers, and symbols. Allow for possibility to change all these options via function arguments. [Note: Use “random” library and string constants in “string” library.]"
   ]
  },
  {
   "cell_type": "code",
   "execution_count": 4,
   "metadata": {
    "collapsed": false
   },
   "outputs": [
    {
     "name": "stdout",
     "output_type": "stream",
     "text": [
      ";(u\\+|\n",
      "1UbdVXMqO4\n"
     ]
    }
   ],
   "source": [
    "import random\n",
    "import string\n",
    "\n",
    "def password_generator(passlen=6, use_lower=True, use_upper=True, use_numbers=True, use_symbols=True):\n",
    "    lower = string.ascii_lowercase\n",
    "    upper = string.ascii_uppercase\n",
    "    numbers = string.digits\n",
    "    symbols = string.punctuation\n",
    "\n",
    "    choices = ''\n",
    "    if use_lower:\n",
    "        choices += lower\n",
    "    if use_upper:\n",
    "        choices += upper\n",
    "    if use_numbers:\n",
    "        choices += numbers\n",
    "    if use_symbols:\n",
    "        choices += symbols\n",
    "        \n",
    "    password =  \"\".join(random.sample(choices, passlen))\n",
    "    return password\n",
    "    \n",
    "print(password_generator())\n",
    "print(password_generator(passlen=10, use_symbols=False))"
   ]
  },
  {
   "cell_type": "markdown",
   "metadata": {},
   "source": [
    "## Q5\n",
    "\n",
    "Find the list of the most frequent words in the titles of New York Times. Here is the code plan:\n",
    "\n",
    "(a) Use “requests” library to load the HTML page (http://www.nytimes.com).\n",
    "\n",
    "(b) Find out which HTML tags contain all the titles.\n",
    "\n",
    "(c) Use “BeautifulSoup” function (http://www.crummy.com/software/BeautifulSoup/bs4/doc/) to extract all the titles from the HTML.\n",
    "\n",
    "(d) Create a list of all words in the titles. Remove punctuation, convert all to lowercase, and leave only those words that are longer than 4 letters. Here you may need “re” (Regular Expressions) library.\n",
    "\n",
    "(e) Count the frequency of each word in the list.\n",
    "\n",
    "(f) Print 50 most frequently used words (with counts) sorted by counts."
   ]
  },
  {
   "cell_type": "code",
   "execution_count": 6,
   "metadata": {
    "collapsed": false
   },
   "outputs": [
    {
     "name": "stdout",
     "output_type": "stream",
     "text": [
      "[('review', 12), ('inside', 5), ('refugees', 5), ('health', 5), ('david', 5), ('notebook', 5), ('first', 4), ('fashion', 4), ('diesel', 4), ('london', 4), ('reporters', 4), ('colts', 3), ('volkswagen', 3), ('artsbeat', 3), ('world', 3), ('editorial', 3), ('refugee', 3), ('crisis', 3), ('personal', 3), ('bronx', 3)]\n"
     ]
    }
   ],
   "source": [
    "import re\n",
    "import requests\n",
    "from bs4 import BeautifulSoup\n",
    " \n",
    "def get_headings():\n",
    "    base_url = 'http://www.nytimes.com'\n",
    "    r = requests.get(base_url)\n",
    "    soup = BeautifulSoup(r.text)\n",
    "\n",
    "    headings = []\n",
    "    for story_heading in soup.find_all(class_=\"story-heading\"): \n",
    "        if story_heading.a: \n",
    "            headings.append(story_heading.a.text.replace(\"\\n\", \" \").strip())\n",
    "        else: \n",
    "            headings.append(story_heading.contents[0].strip())\n",
    "    return headings\n",
    "\n",
    "def most_frequent(headings, limit=20):\n",
    "    words = []\n",
    "    for head in headings:\n",
    "        words.extend([re.sub('\\W', '', x.lower()) for x in head.split()])\n",
    "    counts = {x : words.count(x) for x in words if len(x) > 4}\n",
    "    return sorted(counts.items(), key=lambda x: x[1], reverse=True)[:limit]\n",
    "\n",
    "\n",
    "headings = get_headings()\n",
    "counts = most_frequent(headings)\n",
    "\n",
    "print(counts)"
   ]
  }
 ],
 "metadata": {
  "anaconda-cloud": {},
  "kernelspec": {
   "display_name": "Python [default]",
   "language": "python",
   "name": "python3"
  },
  "language_info": {
   "codemirror_mode": {
    "name": "ipython",
    "version": 3
   },
   "file_extension": ".py",
   "mimetype": "text/x-python",
   "name": "python",
   "nbconvert_exporter": "python",
   "pygments_lexer": "ipython3",
   "version": "3.5.2"
  }
 },
 "nbformat": 4,
 "nbformat_minor": 0
}
