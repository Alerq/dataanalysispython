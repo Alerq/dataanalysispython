{
 "cells": [
  {
   "cell_type": "markdown",
   "metadata": {},
   "source": [
    "# Homework 4"
   ]
  },
  {
   "cell_type": "code",
   "execution_count": 1,
   "metadata": {
    "collapsed": true
   },
   "outputs": [],
   "source": [
    "import numpy as np\n",
    "import pandas as pd\n",
    "from pandas.io import wb\n",
    "\n",
    "pd.set_option('float_format', '{:6.2f}'.format)"
   ]
  },
  {
   "cell_type": "markdown",
   "metadata": {},
   "source": [
    "Download the following data from the World Bank \"World Development Indicators\" repository (http://databank.worldbank.org/data/home.aspx):\n",
    "\n",
    "- inflation ('FP.CPI.TOTL.ZG')\n",
    "- GDP per capita ('NY.GDP.PCAP.CD')\n",
    "- Internet users ('IT.NET.USER.P2')\n",
    "\n",
    "Use Pandas remote data access module (http://pandas.pydata.org/pandas-docs/version/0.16.2/remote_data.html#remote-data-wb)."
   ]
  },
  {
   "cell_type": "code",
   "execution_count": 2,
   "metadata": {
    "collapsed": false
   },
   "outputs": [
    {
     "name": "stdout",
     "output_type": "stream",
     "text": [
      "                 NY.GDP.PCAP.CD  FP.CPI.TOTL.ZG  IT.NET.USER.P2\n",
      "country    year                                                \n",
      "Arab World 2014         7412.52            2.79           34.52\n",
      "           2013         7540.46            3.16           32.34\n",
      "           2012         7442.14            4.25           29.95\n",
      "           2011         6900.38            4.64           26.53\n",
      "           2010         5949.41            3.95           24.54\n"
     ]
    }
   ],
   "source": []
  },
  {
   "cell_type": "markdown",
   "metadata": {},
   "source": [
    "- Print the shape of the dataset (number of rows and columns).\n",
    "- Print the first three and last three rows in the dataset.\n",
    "- Print basic descriptive statistics."
   ]
  },
  {
   "cell_type": "code",
   "execution_count": 3,
   "metadata": {
    "collapsed": false
   },
   "outputs": [
    {
     "name": "stdout",
     "output_type": "stream",
     "text": [
      "(3735, 3)\n",
      "                 NY.GDP.PCAP.CD  FP.CPI.TOTL.ZG  IT.NET.USER.P2\n",
      "country    year                                                \n",
      "Arab World 2014         7412.52            2.79           34.52\n",
      "           2013         7540.46            3.16           32.34\n",
      "           2012         7442.14            4.25           29.95\n",
      "               NY.GDP.PCAP.CD  FP.CPI.TOTL.ZG  IT.NET.USER.P2\n",
      "country  year                                                \n",
      "Zimbabwe 2002          499.72             nan            3.99\n",
      "         2001          537.72             nan            0.80\n",
      "         2000          535.20             nan            0.40\n",
      "       NY.GDP.PCAP.CD  FP.CPI.TOTL.ZG  IT.NET.USER.P2\n",
      "count         3422.00         3102.00         3480.00\n",
      "mean         12279.80            6.17           26.31\n",
      "std          19444.36           15.00           26.38\n",
      "min            106.02          -18.11            0.00\n",
      "25%           1151.95            2.17            3.77\n",
      "50%           4016.69            3.99           16.16\n",
      "75%          14390.29            7.10           44.14\n",
      "max         193648.13          513.91           98.16\n"
     ]
    }
   ],
   "source": []
  },
  {
   "cell_type": "markdown",
   "metadata": {},
   "source": [
    "- Rename columns to give them some meaningful names. Print first five rows of the dataset."
   ]
  },
  {
   "cell_type": "code",
   "execution_count": 4,
   "metadata": {
    "collapsed": false
   },
   "outputs": [
    {
     "name": "stdout",
     "output_type": "stream",
     "text": [
      "                 GDP per capita  Inflation  Internet users\n",
      "country    year                                           \n",
      "Arab World 2014         7412.52       2.79           34.52\n",
      "           2013         7540.46       3.16           32.34\n",
      "           2012         7442.14       4.25           29.95\n",
      "           2011         6900.38       4.64           26.53\n",
      "           2010         5949.41       3.95           24.54\n"
     ]
    }
   ],
   "source": []
  },
  {
   "cell_type": "markdown",
   "metadata": {},
   "source": [
    "Note that the index level 'year' is a `string`.\n",
    "\n",
    "- Convert it to `DatetimeIntex` and name it 'date'. Show the first three values."
   ]
  },
  {
   "cell_type": "code",
   "execution_count": 5,
   "metadata": {
    "collapsed": false
   },
   "outputs": [
    {
     "name": "stdout",
     "output_type": "stream",
     "text": [
      "                        GDP per capita  Inflation  Internet users\n",
      "country     date                                                 \n",
      "Afghanistan 2000-01-01             nan        nan             nan\n",
      "            2001-01-01          119.90        nan            0.00\n",
      "            2002-01-01          192.15        nan            0.00\n",
      "            2003-01-01          203.65        nan            0.09\n",
      "            2004-01-01          224.91        nan            0.11\n",
      "DatetimeIndex(['2000-01-01', '2001-01-01', '2002-01-01'], dtype='datetime64[ns]', name='date', freq=None, tz=None)\n"
     ]
    }
   ],
   "source": []
  },
  {
   "cell_type": "markdown",
   "metadata": {},
   "source": [
    "- Compute average inflation and GDP per capita over time for each country. Drop missing values. Sort index by inflation. Print the first five rows."
   ]
  },
  {
   "cell_type": "code",
   "execution_count": 6,
   "metadata": {
    "collapsed": false
   },
   "outputs": [
    {
     "name": "stdout",
     "output_type": "stream",
     "text": [
      "                      Inflation  GDP per capita\n",
      "country                                        \n",
      "Japan                     -0.03        37538.90\n",
      "Brunei Darussalam          0.63        29596.88\n",
      "Switzerland                0.64        61883.90\n",
      "Hong Kong SAR, China       1.26        30344.85\n",
      "Sweden                     1.31        46526.94\n"
     ]
    }
   ],
   "source": []
  },
  {
   "cell_type": "markdown",
   "metadata": {},
   "source": [
    "- Create a `DataFrame` which contains only five highest and five lowest inflation values and country index. Print it."
   ]
  },
  {
   "cell_type": "code",
   "execution_count": 7,
   "metadata": {
    "collapsed": false
   },
   "outputs": [
    {
     "name": "stdout",
     "output_type": "stream",
     "text": [
      "                      Inflation\n",
      "country                        \n",
      "Japan                     -0.03\n",
      "Brunei Darussalam          0.63\n",
      "Switzerland                0.64\n",
      "Hong Kong SAR, China       1.26\n",
      "Sweden                     1.31\n",
      "Serbia                    19.71\n",
      "Venezuela, RB             34.21\n",
      "Belarus                   35.27\n",
      "Angola                    57.15\n",
      "Congo, Dem. Rep.          73.39\n"
     ]
    }
   ],
   "source": []
  },
  {
   "cell_type": "markdown",
   "metadata": {},
   "source": [
    "- Categorize countries into 'high', 'medium', and 'low' groups according to the average value of 'GDP per capita'.\n",
    "- Compute the average inflation for each group. Print the result."
   ]
  },
  {
   "cell_type": "code",
   "execution_count": 8,
   "metadata": {
    "collapsed": false
   },
   "outputs": [
    {
     "name": "stdout",
     "output_type": "stream",
     "text": [
      "           Inflation\n",
      "GDP group           \n",
      "low             8.60\n",
      "medium          6.65\n",
      "high            3.61\n"
     ]
    }
   ],
   "source": []
  },
  {
   "cell_type": "markdown",
   "metadata": {},
   "source": [
    "- Create a `DataFrame` with\n",
    "    - two-level index, 'GDP group' and 'country',\n",
    "    - two columns, 'Inflation' and 'GDP per capita'.\n",
    "- Leave only two smallest and two largest values of inflation values in each 'GDP group'. Print the result."
   ]
  },
  {
   "cell_type": "code",
   "execution_count": 9,
   "metadata": {
    "collapsed": false
   },
   "outputs": [
    {
     "name": "stdout",
     "output_type": "stream",
     "text": [
      "                             Inflation  GDP per capita\n",
      "GDP group country                                     \n",
      "low       Senegal                 1.69          845.85\n",
      "          Zimbabwe                2.15          583.54\n",
      "          Guinea                 18.56          402.39\n",
      "          Congo, Dem. Rep.       73.39          287.66\n",
      "medium    Morocco                 1.63         2283.89\n",
      "          Dominica                1.85         6088.47\n",
      "          Belarus                35.27         4404.44\n",
      "          Angola                 57.15         2885.26\n",
      "high      Japan                  -0.03        37538.90\n",
      "          Brunei Darussalam       0.63        29596.88\n",
      "          Turkey                 18.37         7819.24\n",
      "          Venezuela, RB          34.21         8675.05\n"
     ]
    }
   ],
   "source": []
  },
  {
   "cell_type": "markdown",
   "metadata": {},
   "source": [
    "- Compute log percentage growth rate of GDP per capita. Print first five rows."
   ]
  },
  {
   "cell_type": "code",
   "execution_count": 10,
   "metadata": {
    "collapsed": false
   },
   "outputs": [
    {
     "name": "stdout",
     "output_type": "stream",
     "text": [
      "                        GDP per capita  Inflation  Internet users  GDP growth\n",
      "country     date                                                             \n",
      "Afghanistan 2000-01-01             nan        nan             nan         nan\n",
      "            2001-01-01          119.90        nan            0.00         nan\n",
      "            2002-01-01          192.15        nan            0.00       47.16\n",
      "            2003-01-01          203.65        nan            0.09        5.81\n",
      "            2004-01-01          224.91        nan            0.11        9.93\n"
     ]
    }
   ],
   "source": []
  },
  {
   "cell_type": "markdown",
   "metadata": {},
   "source": [
    "- Compute averages of all indicators over time for each country. Print first five rows."
   ]
  },
  {
   "cell_type": "code",
   "execution_count": 11,
   "metadata": {
    "collapsed": false
   },
   "outputs": [
    {
     "name": "stdout",
     "output_type": "stream",
     "text": [
      "                GDP per capita  Inflation  Internet users  GDP growth\n",
      "country                                                              \n",
      "Afghanistan             407.55       8.13            2.68       13.11\n",
      "Albania                3206.71       2.64           24.40        9.67\n",
      "Algeria                3707.43       3.71            8.66        8.15\n",
      "American Samoa             nan        nan             nan         nan\n",
      "Andorra               37094.66        nan           57.61        5.32\n"
     ]
    }
   ],
   "source": []
  },
  {
   "cell_type": "markdown",
   "metadata": {},
   "source": [
    "- Categorize countries into 'high', 'medium', and 'low' groups according to the average value of 'Internet users' and 'Inflation' (separately).\n",
    "- Compute the average GDP growth for each group.\n",
    "- Print the result as a 3x3 table with inflation gropus in rows and internet groups in columns."
   ]
  },
  {
   "cell_type": "code",
   "execution_count": 12,
   "metadata": {
    "collapsed": false
   },
   "outputs": [
    {
     "name": "stdout",
     "output_type": "stream",
     "text": [
      "Internet users group    low  medium   high\n",
      "Inflation group                           \n",
      "low                    5.72    6.87   5.07\n",
      "medium                 7.48    7.96   7.29\n",
      "high                   7.48    9.32   8.34\n"
     ]
    }
   ],
   "source": []
  }
 ],
 "metadata": {
  "kernelspec": {
   "display_name": "Python 3",
   "language": "python",
   "name": "python3"
  },
  "language_info": {
   "codemirror_mode": {
    "name": "ipython",
    "version": 3
   },
   "file_extension": ".py",
   "mimetype": "text/x-python",
   "name": "python",
   "nbconvert_exporter": "python",
   "pygments_lexer": "ipython3",
   "version": "3.4.3"
  }
 },
 "nbformat": 4,
 "nbformat_minor": 0
}
